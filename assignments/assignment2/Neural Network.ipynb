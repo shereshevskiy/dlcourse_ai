{
 "cells": [
  {
   "cell_type": "markdown",
   "metadata": {},
   "source": [
    "# Задание 2.1 - Нейронные сети\n",
    "\n",
    "В этом задании вы реализуете и натренируете настоящую нейроную сеть своими руками!\n",
    "\n",
    "В некотором смысле это будет расширением прошлого задания - нам нужно просто составить несколько линейных классификаторов вместе!\n",
    "\n",
    "<img src=\"https://i.redd.it/n9fgba8b0qr01.png\" alt=\"Stack_more_layers\" width=\"400px\"/>"
   ]
  },
  {
   "cell_type": "code",
   "execution_count": 1,
   "metadata": {},
   "outputs": [],
   "source": [
    "import numpy as np\n",
    "import matplotlib.pyplot as plt\n",
    "import os\n",
    "\n",
    "%matplotlib inline\n",
    "\n",
    "%load_ext autoreload\n",
    "%autoreload 2"
   ]
  },
  {
   "cell_type": "code",
   "execution_count": 2,
   "metadata": {},
   "outputs": [],
   "source": [
    "from dataset import load_svhn, random_split_train_val\n",
    "from gradient_check import check_layer_gradient, check_layer_param_gradient, check_model_gradient\n",
    "from layers import FullyConnectedLayer, ReLULayer\n",
    "from model import TwoLayerNet\n",
    "from trainer import Trainer, Dataset\n",
    "from optim import SGD, MomentumSGD\n",
    "from metrics import multiclass_accuracy"
   ]
  },
  {
   "cell_type": "markdown",
   "metadata": {},
   "source": [
    "# Загружаем данные\n",
    "\n",
    "И разделяем их на training и validation."
   ]
  },
  {
   "cell_type": "code",
   "execution_count": 3,
   "metadata": {},
   "outputs": [],
   "source": [
    "def prepare_for_neural_network(train_X, test_X):\n",
    "    train_flat = train_X.reshape(train_X.shape[0], -1).astype(np.float) / 255.0\n",
    "    test_flat = test_X.reshape(test_X.shape[0], -1).astype(np.float) / 255.0\n",
    "    \n",
    "    # Subtract mean\n",
    "    mean_image = np.mean(train_flat, axis = 0)\n",
    "    train_flat -= mean_image\n",
    "    test_flat -= mean_image\n",
    "    \n",
    "    return train_flat, test_flat\n",
    "    \n",
    "train_X, train_y, test_X, test_y = load_svhn(os.path.join(\"..\", \"data\"), max_train=10000, max_test=1000)    \n",
    "train_X, test_X = prepare_for_neural_network(train_X, test_X)\n",
    "# Split train into train and val\n",
    "train_X, train_y, val_X, val_y = random_split_train_val(train_X, train_y, num_val = 1000)"
   ]
  },
  {
   "cell_type": "markdown",
   "metadata": {},
   "source": [
    "# Как всегда, начинаем с кирпичиков\n",
    "\n",
    "Мы будем реализовывать необходимые нам слои по очереди. Каждый слой должен реализовать:\n",
    "- прямой проход (forward pass), который генерирует выход слоя по входу и запоминает необходимые данные\n",
    "- обратный проход (backward pass), который получает градиент по выходу слоя и вычисляет градиент по входу и по параметрам\n",
    "\n",
    "Начнем с ReLU, у которого параметров нет."
   ]
  },
  {
   "cell_type": "code",
   "execution_count": 4,
   "metadata": {
    "scrolled": false
   },
   "outputs": [
    {
     "name": "stdout",
     "output_type": "stream",
     "text": [
      "Gradient check passed!\n"
     ]
    }
   ],
   "source": [
    "# TODO: Implement ReLULayer layer in layers.py\n",
    "# Note: you'll need to copy implementation of the gradient_check function from the previous assignment\n",
    "\n",
    "X = np.array([[1,-2,3],\n",
    "              [-1, 2, 0.1]\n",
    "              ])\n",
    "\n",
    "assert check_layer_gradient(ReLULayer(), X)"
   ]
  },
  {
   "cell_type": "markdown",
   "metadata": {},
   "source": [
    "А теперь реализуем полносвязный слой (fully connected layer), у которого будет два массива параметров: W (weights) и B (bias).\n",
    "\n",
    "Все параметры наши слои будут использовать для параметров специальный класс `Param`, в котором будут храниться значения параметров и градиенты этих параметров, вычисляемые во время обратного прохода.\n",
    "\n",
    "Это даст возможность аккумулировать (суммировать) градиенты из разных частей функции потерь, например, из cross-entropy loss и regularization loss."
   ]
  },
  {
   "cell_type": "code",
   "execution_count": 13,
   "metadata": {},
   "outputs": [
    {
     "name": "stdout",
     "output_type": "stream",
     "text": [
      "Gradient check passed!\n",
      "Gradient check passed!\n",
      "Gradient check passed!\n"
     ]
    }
   ],
   "source": [
    "# TODO: Implement FullyConnected layer forward and backward methods\n",
    "assert check_layer_gradient(FullyConnectedLayer(3, 4), X)\n",
    "# TODO: Implement storing gradients for W and B\n",
    "assert check_layer_param_gradient(FullyConnectedLayer(3, 4), X, 'W')\n",
    "assert check_layer_param_gradient(FullyConnectedLayer(3, 4), X, 'B')"
   ]
  },
  {
   "cell_type": "markdown",
   "metadata": {},
   "source": [
    "## Создаем нейронную сеть\n",
    "\n",
    "Теперь мы реализуем простейшую нейронную сеть с двумя полносвязным слоями и нелинейностью ReLU. Реализуйте функцию `compute_loss_and_gradients`, она должна запустить прямой и обратный проход через оба слоя для вычисления градиентов.\n",
    "\n",
    "Не забудьте реализовать очистку градиентов в начале функции."
   ]
  },
  {
   "cell_type": "code",
   "execution_count": 8,
   "metadata": {},
   "outputs": [
    {
     "name": "stdout",
     "output_type": "stream",
     "text": [
      "Checking gradient for W1\n",
      "Gradient check passed!\n",
      "Checking gradient for B1\n",
      "Gradient check passed!\n",
      "Checking gradient for W2\n",
      "Gradient check passed!\n",
      "Checking gradient for B2\n",
      "Gradient check passed!\n"
     ]
    },
    {
     "data": {
      "text/plain": [
       "True"
      ]
     },
     "execution_count": 8,
     "metadata": {},
     "output_type": "execute_result"
    }
   ],
   "source": [
    "# TODO: In model.py, implement compute_loss_and_gradients function\n",
    "model = TwoLayerNet(n_input = train_X.shape[1], n_output = 10, hidden_layer_size = 3, reg = 0)\n",
    "loss = model.compute_loss_and_gradients(train_X[:2], train_y[:2])\n",
    "\n",
    "# TODO Now implement backward pass and aggregate all of the params\n",
    "check_model_gradient(model, train_X[:2], train_y[:2])"
   ]
  },
  {
   "cell_type": "markdown",
   "metadata": {},
   "source": [
    "Теперь добавьте к модели регуляризацию - она должна прибавляться к loss и делать свой вклад в градиенты."
   ]
  },
  {
   "cell_type": "code",
   "execution_count": 9,
   "metadata": {},
   "outputs": [
    {
     "name": "stdout",
     "output_type": "stream",
     "text": [
      "Checking gradient for W1\n",
      "Gradient check passed!\n",
      "Checking gradient for B1\n",
      "Gradient check passed!\n",
      "Checking gradient for W2\n",
      "Gradient check passed!\n",
      "Checking gradient for B2\n",
      "Gradient check passed!\n"
     ]
    },
    {
     "data": {
      "text/plain": [
       "True"
      ]
     },
     "execution_count": 9,
     "metadata": {},
     "output_type": "execute_result"
    }
   ],
   "source": [
    "# TODO Now implement l2 regularization in the forward and backward pass\n",
    "model_with_reg = TwoLayerNet(n_input = train_X.shape[1], n_output = 10, hidden_layer_size = 3, reg = 1e1)\n",
    "loss_with_reg = model_with_reg.compute_loss_and_gradients(train_X[:2], train_y[:2])\n",
    "assert loss_with_reg > loss and not np.isclose(loss_with_reg, loss), \\\n",
    "    \"Loss with regularization (%2.4f) should be higher than without it (%2.4f)!\" % (loss, loss_with_reg)\n",
    "\n",
    "check_model_gradient(model_with_reg, train_X[:2], train_y[:2])"
   ]
  },
  {
   "cell_type": "markdown",
   "metadata": {},
   "source": [
    "Также реализуем функцию предсказания (вычисления значения) модели на новых данных.\n",
    "\n",
    "Какое значение точности мы ожидаем увидеть до начала тренировки?"
   ]
  },
  {
   "cell_type": "code",
   "execution_count": 10,
   "metadata": {},
   "outputs": [
    {
     "data": {
      "text/plain": [
       "0.1"
      ]
     },
     "execution_count": 10,
     "metadata": {},
     "output_type": "execute_result"
    }
   ],
   "source": [
    "# Finally, implement predict function!\n",
    "\n",
    "# TODO: Implement predict function\n",
    "# What would be the value we expect?\n",
    "multiclass_accuracy(model_with_reg.predict(train_X[:30]), train_y[:30]) "
   ]
  },
  {
   "cell_type": "markdown",
   "metadata": {},
   "source": [
    "# Допишем код для процесса тренировки"
   ]
  },
  {
   "cell_type": "code",
   "execution_count": 26,
   "metadata": {
    "scrolled": false
   },
   "outputs": [
    {
     "name": "stdout",
     "output_type": "stream",
     "text": [
      "Loss: 2.474403, Train accuracy: 0.196667, val accuracy: 0.206000\n",
      "Loss: 2.302185, Train accuracy: 0.196667, val accuracy: 0.206000\n",
      "Loss: 2.302186, Train accuracy: 0.196667, val accuracy: 0.206000\n",
      "Loss: 2.302183, Train accuracy: 0.196667, val accuracy: 0.206000\n",
      "Loss: 2.302185, Train accuracy: 0.196667, val accuracy: 0.206000\n",
      "Loss: 2.302182, Train accuracy: 0.196667, val accuracy: 0.206000\n",
      "Loss: 2.302184, Train accuracy: 0.196667, val accuracy: 0.206000\n",
      "Loss: 2.302186, Train accuracy: 0.196667, val accuracy: 0.206000\n",
      "Loss: 2.302186, Train accuracy: 0.196667, val accuracy: 0.206000\n",
      "Loss: 2.302182, Train accuracy: 0.196667, val accuracy: 0.206000\n",
      "Loss: 2.302184, Train accuracy: 0.196667, val accuracy: 0.206000\n",
      "Loss: 2.302182, Train accuracy: 0.196667, val accuracy: 0.206000\n",
      "Loss: 2.302183, Train accuracy: 0.196667, val accuracy: 0.206000\n",
      "Loss: 2.302180, Train accuracy: 0.196667, val accuracy: 0.206000\n",
      "Loss: 2.302183, Train accuracy: 0.196667, val accuracy: 0.206000\n",
      "Loss: 2.302181, Train accuracy: 0.196667, val accuracy: 0.206000\n",
      "Loss: 2.302185, Train accuracy: 0.196667, val accuracy: 0.206000\n",
      "Loss: 2.302185, Train accuracy: 0.196667, val accuracy: 0.206000\n",
      "Loss: 2.302185, Train accuracy: 0.196667, val accuracy: 0.206000\n",
      "Loss: 2.302183, Train accuracy: 0.196667, val accuracy: 0.206000\n"
     ]
    }
   ],
   "source": [
    "model = TwoLayerNet(n_input = train_X.shape[1], n_output = 10, hidden_layer_size = 100, reg = 1e1)\n",
    "dataset = Dataset(train_X, train_y, val_X, val_y)\n",
    "trainer = Trainer(model, dataset, SGD())\n",
    "\n",
    "# TODO Implement missing pieces in Trainer.fit function\n",
    "# You should expect loss to go down and train and val accuracy go up for every epoch\n",
    "loss_history, train_history, val_history = trainer.fit()"
   ]
  },
  {
   "cell_type": "code",
   "execution_count": 14,
   "metadata": {},
   "outputs": [
    {
     "data": {
      "text/plain": [
       "[<matplotlib.lines.Line2D at 0x15a49076da0>]"
      ]
     },
     "execution_count": 14,
     "metadata": {},
     "output_type": "execute_result"
    },
    {
     "data": {
      "image/png": "[encoded data removed]",
      "text/plain": [
       "<Figure size 432x288 with 1 Axes>"
      ]
     },
     "metadata": {
      "needs_background": "light"
     },
     "output_type": "display_data"
    }
   ],
   "source": [
    "plt.plot(train_history)\n",
    "plt.plot(val_history)"
   ]
  },
  {
   "cell_type": "code",
   "execution_count": 15,
   "metadata": {},
   "outputs": [],
   "source": [
    "class Layer:\n",
    "    def forward(self, x):\n",
    "        result = ... # промежуточные вычисления\n",
    "        self.x = x # сохраняем значения, которые нам\n",
    "                   # понадобятся при обратном проходе\n",
    "        return result\n",
    "    \n",
    "    def backward(self, grad):\n",
    "        dx = ... # используем сохраненные значения, чтобы \n",
    "        dw = ... # вычислить градиент по x и по w\n",
    "        self.w.grad += dw # аккумулируем градиент dw\n",
    "        return dx"
   ]
  },
  {
   "cell_type": "markdown",
   "metadata": {},
   "source": [
    "# Улучшаем процесс тренировки\n",
    "\n",
    "Мы реализуем несколько ключевых оптимизаций, необходимых для тренировки современных нейросетей."
   ]
  },
  {
   "cell_type": "markdown",
   "metadata": {},
   "source": [
    "## Уменьшение скорости обучения (learning rate decay)\n",
    "\n",
    "Одна из необходимых оптимизаций во время тренировки нейронных сетей - постепенное уменьшение скорости обучения по мере тренировки.\n",
    "\n",
    "Один из стандартных методов - уменьшение скорости обучения (learning rate) каждые N эпох на коэффициент d (часто называемый decay). Значения N и d, как всегда, являются гиперпараметрами и должны подбираться на основе эффективности на проверочных данных (validation data). \n",
    "\n",
    "В нашем случае N будет равным 1."
   ]
  },
  {
   "cell_type": "code",
   "execution_count": 16,
   "metadata": {},
   "outputs": [
    {
     "name": "stdout",
     "output_type": "stream",
     "text": [
      "Loss: 2.327408, Train accuracy: 0.196667, val accuracy: 0.206000\n",
      "Loss: 2.317032, Train accuracy: 0.196667, val accuracy: 0.206000\n",
      "Loss: 2.308858, Train accuracy: 0.196667, val accuracy: 0.206000\n",
      "Loss: 2.302395, Train accuracy: 0.196667, val accuracy: 0.206000\n",
      "Loss: 2.297260, Train accuracy: 0.196667, val accuracy: 0.206000\n",
      "Loss: 2.293176, Train accuracy: 0.196667, val accuracy: 0.206000\n",
      "Loss: 2.289910, Train accuracy: 0.196667, val accuracy: 0.206000\n",
      "Loss: 2.287280, Train accuracy: 0.196667, val accuracy: 0.206000\n",
      "Loss: 2.285161, Train accuracy: 0.196667, val accuracy: 0.206000\n",
      "Loss: 2.283444, Train accuracy: 0.196667, val accuracy: 0.206000\n",
      "Loss: 2.282049, Train accuracy: 0.196667, val accuracy: 0.206000\n",
      "Loss: 2.280911, Train accuracy: 0.196667, val accuracy: 0.206000\n",
      "Loss: 2.279977, Train accuracy: 0.196667, val accuracy: 0.206000\n",
      "Loss: 2.279211, Train accuracy: 0.196667, val accuracy: 0.206000\n",
      "Loss: 2.278579, Train accuracy: 0.196667, val accuracy: 0.206000\n",
      "Loss: 2.278054, Train accuracy: 0.196667, val accuracy: 0.206000\n",
      "Loss: 2.277615, Train accuracy: 0.196667, val accuracy: 0.206000\n",
      "Loss: 2.277253, Train accuracy: 0.196667, val accuracy: 0.206000\n",
      "Loss: 2.276945, Train accuracy: 0.196667, val accuracy: 0.206000\n",
      "Loss: 2.276688, Train accuracy: 0.196667, val accuracy: 0.206000\n"
     ]
    }
   ],
   "source": [
    "# TODO Implement learning rate decay inside Trainer.fit method\n",
    "# Decay should happen once per epoch\n",
    "\n",
    "model = TwoLayerNet(n_input = train_X.shape[1], n_output = 10, hidden_layer_size = 100, reg = 1e-1)\n",
    "dataset = Dataset(train_X, train_y, val_X, val_y)\n",
    "trainer = Trainer(model, dataset, SGD(), learning_rate_decay=0.99)\n",
    "\n",
    "initial_learning_rate = trainer.learning_rate\n",
    "loss_history, train_history, val_history = trainer.fit()\n",
    "\n",
    "assert trainer.learning_rate < initial_learning_rate, \"Learning rate should've been reduced\"\n",
    "assert trainer.learning_rate > 0.5*initial_learning_rate, \"Learning rate shouldn'tve been reduced that much!\""
   ]
  },
  {
   "cell_type": "markdown",
   "metadata": {},
   "source": [
    "# Накопление импульса (Momentum SGD)\n",
    "\n",
    "Другой большой класс оптимизаций - использование более эффективных методов градиентного спуска. Мы реализуем один из них - накопление импульса (Momentum SGD).\n",
    "\n",
    "Этот метод хранит скорость движения, использует градиент для ее изменения на каждом шаге, и изменяет веса пропорционально значению скорости.\n",
    "(Физическая аналогия: Вместо скорости градиенты теперь будут задавать ускорение, но будет присутствовать сила трения.)\n",
    "\n",
    "```\n",
    "velocity = momentum * velocity - learning_rate * gradient \n",
    "w = w + velocity\n",
    "```\n",
    "\n",
    "`momentum` здесь коэффициент затухания, который тоже является гиперпараметром (к счастью, для него часто есть хорошее значение по умолчанию, типичный диапазон -- 0.8-0.99).\n",
    "\n",
    "Несколько полезных ссылок, где метод разбирается более подробно:  \n",
    "http://cs231n.github.io/neural-networks-3/#sgd  \n",
    "https://distill.pub/2017/momentum/"
   ]
  },
  {
   "cell_type": "code",
   "execution_count": 17,
   "metadata": {},
   "outputs": [
    {
     "name": "stdout",
     "output_type": "stream",
     "text": [
      "Loss: 2.327655, Train accuracy: 0.196667, val accuracy: 0.206000\n",
      "Loss: 2.317196, Train accuracy: 0.196667, val accuracy: 0.206000\n",
      "Loss: 2.308953, Train accuracy: 0.196667, val accuracy: 0.206000\n",
      "Loss: 2.302452, Train accuracy: 0.196667, val accuracy: 0.206000\n",
      "Loss: 2.297297, Train accuracy: 0.196667, val accuracy: 0.206000\n",
      "Loss: 2.293189, Train accuracy: 0.196667, val accuracy: 0.206000\n",
      "Loss: 2.289910, Train accuracy: 0.196667, val accuracy: 0.206000\n",
      "Loss: 2.287275, Train accuracy: 0.196667, val accuracy: 0.206000\n",
      "Loss: 2.285152, Train accuracy: 0.196667, val accuracy: 0.206000\n",
      "Loss: 2.283434, Train accuracy: 0.196667, val accuracy: 0.206000\n",
      "Loss: 2.282036, Train accuracy: 0.196667, val accuracy: 0.206000\n",
      "Loss: 2.280898, Train accuracy: 0.196667, val accuracy: 0.206000\n",
      "Loss: 2.279963, Train accuracy: 0.196667, val accuracy: 0.206000\n",
      "Loss: 2.279193, Train accuracy: 0.196667, val accuracy: 0.206000\n",
      "Loss: 2.278562, Train accuracy: 0.196667, val accuracy: 0.206000\n",
      "Loss: 2.278037, Train accuracy: 0.196667, val accuracy: 0.206000\n",
      "Loss: 2.277599, Train accuracy: 0.196667, val accuracy: 0.206000\n",
      "Loss: 2.277234, Train accuracy: 0.196667, val accuracy: 0.206000\n",
      "Loss: 2.276930, Train accuracy: 0.196667, val accuracy: 0.206000\n",
      "Loss: 2.276672, Train accuracy: 0.196667, val accuracy: 0.206000\n"
     ]
    }
   ],
   "source": [
    "# TODO: Implement MomentumSGD.update function in optim.py\n",
    "\n",
    "model = TwoLayerNet(n_input = train_X.shape[1], n_output = 10, hidden_layer_size = 100, reg = 1e-1)\n",
    "dataset = Dataset(train_X, train_y, val_X, val_y)\n",
    "trainer = Trainer(model, dataset, MomentumSGD(), learning_rate=1e-4, learning_rate_decay=0.99)\n",
    "\n",
    "# You should see even better results than before!\n",
    "loss_history, train_history, val_history = trainer.fit()"
   ]
  },
  {
   "cell_type": "markdown",
   "metadata": {},
   "source": [
    "# Ну что, давайте уже тренировать сеть!"
   ]
  },
  {
   "cell_type": "markdown",
   "metadata": {},
   "source": [
    "## Последний тест - переобучимся (overfit) на маленьком наборе данных\n",
    "\n",
    "Хороший способ проверить, все ли реализовано корректно - переобучить сеть на маленьком наборе данных.  \n",
    "Наша модель обладает достаточной мощностью, чтобы приблизить маленький набор данных идеально, поэтому мы ожидаем, что на нем мы быстро дойдем до 100% точности на тренировочном наборе. \n",
    "\n",
    "Если этого не происходит, то где-то была допущена ошибка!"
   ]
  },
  {
   "cell_type": "code",
   "execution_count": 18,
   "metadata": {
    "scrolled": true
   },
   "outputs": [
    {
     "name": "stdout",
     "output_type": "stream",
     "text": [
      "Loss: 2.338326, Train accuracy: 0.200000, val accuracy: 0.133333\n",
      "Loss: 2.320726, Train accuracy: 0.200000, val accuracy: 0.133333\n",
      "Loss: 2.309230, Train accuracy: 0.266667, val accuracy: 0.066667\n",
      "Loss: 2.300579, Train accuracy: 0.200000, val accuracy: 0.133333\n",
      "Loss: 2.290241, Train accuracy: 0.200000, val accuracy: 0.133333\n",
      "Loss: 2.279076, Train accuracy: 0.200000, val accuracy: 0.133333\n",
      "Loss: 2.269464, Train accuracy: 0.266667, val accuracy: 0.000000\n",
      "Loss: 2.250561, Train accuracy: 0.266667, val accuracy: 0.000000\n",
      "Loss: 2.217019, Train accuracy: 0.400000, val accuracy: 0.000000\n",
      "Loss: 2.156007, Train accuracy: 0.400000, val accuracy: 0.000000\n",
      "Loss: 2.067278, Train accuracy: 0.400000, val accuracy: 0.000000\n",
      "Loss: 2.002951, Train accuracy: 0.400000, val accuracy: 0.000000\n",
      "Loss: 1.971993, Train accuracy: 0.333333, val accuracy: 0.000000\n",
      "Loss: 1.911798, Train accuracy: 0.333333, val accuracy: 0.000000\n",
      "Loss: 1.905534, Train accuracy: 0.333333, val accuracy: 0.000000\n",
      "Loss: 1.845792, Train accuracy: 0.333333, val accuracy: 0.000000\n",
      "Loss: 1.804663, Train accuracy: 0.400000, val accuracy: 0.000000\n",
      "Loss: 1.785866, Train accuracy: 0.400000, val accuracy: 0.000000\n",
      "Loss: 1.788834, Train accuracy: 0.400000, val accuracy: 0.000000\n",
      "Loss: 1.790754, Train accuracy: 0.400000, val accuracy: 0.000000\n",
      "Loss: 1.781048, Train accuracy: 0.400000, val accuracy: 0.066667\n",
      "Loss: 1.754564, Train accuracy: 0.400000, val accuracy: 0.000000\n",
      "Loss: 1.741077, Train accuracy: 0.466667, val accuracy: 0.066667\n",
      "Loss: 1.744151, Train accuracy: 0.466667, val accuracy: 0.066667\n",
      "Loss: 1.760742, Train accuracy: 0.466667, val accuracy: 0.066667\n",
      "Loss: 1.756774, Train accuracy: 0.466667, val accuracy: 0.000000\n",
      "Loss: 1.730167, Train accuracy: 0.466667, val accuracy: 0.000000\n",
      "Loss: 1.726081, Train accuracy: 0.466667, val accuracy: 0.066667\n",
      "Loss: 1.712432, Train accuracy: 0.533333, val accuracy: 0.000000\n",
      "Loss: 1.684400, Train accuracy: 0.466667, val accuracy: 0.000000\n",
      "Loss: 1.669895, Train accuracy: 0.533333, val accuracy: 0.066667\n",
      "Loss: 1.664564, Train accuracy: 0.533333, val accuracy: 0.066667\n",
      "Loss: 1.674410, Train accuracy: 0.600000, val accuracy: 0.066667\n",
      "Loss: 1.671687, Train accuracy: 0.533333, val accuracy: 0.000000\n",
      "Loss: 1.648932, Train accuracy: 0.600000, val accuracy: 0.066667\n",
      "Loss: 1.609983, Train accuracy: 0.600000, val accuracy: 0.066667\n",
      "Loss: 1.629422, Train accuracy: 0.666667, val accuracy: 0.066667\n",
      "Loss: 1.593120, Train accuracy: 0.666667, val accuracy: 0.066667\n",
      "Loss: 1.569683, Train accuracy: 0.666667, val accuracy: 0.066667\n",
      "Loss: 1.591973, Train accuracy: 0.666667, val accuracy: 0.000000\n",
      "Loss: 1.550994, Train accuracy: 0.666667, val accuracy: 0.066667\n",
      "Loss: 1.526442, Train accuracy: 0.666667, val accuracy: 0.066667\n",
      "Loss: 1.527991, Train accuracy: 0.666667, val accuracy: 0.066667\n",
      "Loss: 1.515509, Train accuracy: 0.666667, val accuracy: 0.066667\n",
      "Loss: 1.501427, Train accuracy: 0.666667, val accuracy: 0.066667\n",
      "Loss: 1.479611, Train accuracy: 0.733333, val accuracy: 0.066667\n",
      "Loss: 1.515307, Train accuracy: 0.666667, val accuracy: 0.066667\n",
      "Loss: 1.466382, Train accuracy: 0.666667, val accuracy: 0.000000\n",
      "Loss: 1.476952, Train accuracy: 0.666667, val accuracy: 0.000000\n",
      "Loss: 1.447254, Train accuracy: 0.733333, val accuracy: 0.066667\n",
      "Loss: 1.442250, Train accuracy: 0.733333, val accuracy: 0.133333\n",
      "Loss: 1.437411, Train accuracy: 0.733333, val accuracy: 0.133333\n",
      "Loss: 1.414870, Train accuracy: 0.733333, val accuracy: 0.066667\n",
      "Loss: 1.417957, Train accuracy: 0.733333, val accuracy: 0.066667\n",
      "Loss: 1.433834, Train accuracy: 0.733333, val accuracy: 0.133333\n",
      "Loss: 1.391517, Train accuracy: 0.733333, val accuracy: 0.066667\n",
      "Loss: 1.394108, Train accuracy: 0.733333, val accuracy: 0.066667\n",
      "Loss: 1.397111, Train accuracy: 0.733333, val accuracy: 0.133333\n",
      "Loss: 1.378153, Train accuracy: 0.733333, val accuracy: 0.066667\n",
      "Loss: 1.380982, Train accuracy: 0.733333, val accuracy: 0.066667\n",
      "Loss: 1.390437, Train accuracy: 0.733333, val accuracy: 0.066667\n",
      "Loss: 1.387097, Train accuracy: 0.733333, val accuracy: 0.066667\n",
      "Loss: 1.406708, Train accuracy: 0.733333, val accuracy: 0.066667\n",
      "Loss: 1.387041, Train accuracy: 0.733333, val accuracy: 0.066667\n",
      "Loss: 1.375803, Train accuracy: 0.733333, val accuracy: 0.066667\n",
      "Loss: 1.378639, Train accuracy: 0.733333, val accuracy: 0.066667\n",
      "Loss: 1.380097, Train accuracy: 0.733333, val accuracy: 0.066667\n",
      "Loss: 1.395714, Train accuracy: 0.733333, val accuracy: 0.066667\n",
      "Loss: 1.363203, Train accuracy: 0.733333, val accuracy: 0.066667\n",
      "Loss: 1.372490, Train accuracy: 0.733333, val accuracy: 0.066667\n",
      "Loss: 1.358886, Train accuracy: 0.733333, val accuracy: 0.066667\n",
      "Loss: 1.382959, Train accuracy: 0.733333, val accuracy: 0.066667\n",
      "Loss: 1.394723, Train accuracy: 0.733333, val accuracy: 0.066667\n",
      "Loss: 1.367586, Train accuracy: 0.733333, val accuracy: 0.066667\n",
      "Loss: 1.367077, Train accuracy: 0.733333, val accuracy: 0.066667\n",
      "Loss: 1.368755, Train accuracy: 0.733333, val accuracy: 0.066667\n",
      "Loss: 1.357915, Train accuracy: 0.733333, val accuracy: 0.066667\n",
      "Loss: 1.371789, Train accuracy: 0.733333, val accuracy: 0.066667\n",
      "Loss: 1.360214, Train accuracy: 0.866667, val accuracy: 0.066667\n",
      "Loss: 1.373501, Train accuracy: 0.866667, val accuracy: 0.066667\n",
      "Loss: 1.357797, Train accuracy: 0.866667, val accuracy: 0.066667\n",
      "Loss: 1.377497, Train accuracy: 0.866667, val accuracy: 0.066667\n",
      "Loss: 1.382670, Train accuracy: 0.866667, val accuracy: 0.066667\n",
      "Loss: 1.372767, Train accuracy: 0.866667, val accuracy: 0.066667\n",
      "Loss: 1.369174, Train accuracy: 0.866667, val accuracy: 0.066667\n",
      "Loss: 1.351686, Train accuracy: 0.866667, val accuracy: 0.066667\n",
      "Loss: 1.351114, Train accuracy: 0.866667, val accuracy: 0.066667\n",
      "Loss: 1.366576, Train accuracy: 0.866667, val accuracy: 0.066667\n",
      "Loss: 1.348050, Train accuracy: 0.866667, val accuracy: 0.066667\n",
      "Loss: 1.362101, Train accuracy: 0.866667, val accuracy: 0.066667\n",
      "Loss: 1.352334, Train accuracy: 0.866667, val accuracy: 0.066667\n",
      "Loss: 1.342979, Train accuracy: 0.866667, val accuracy: 0.066667\n",
      "Loss: 1.331005, Train accuracy: 0.866667, val accuracy: 0.066667\n",
      "Loss: 1.337902, Train accuracy: 0.866667, val accuracy: 0.066667\n",
      "Loss: 1.334659, Train accuracy: 0.866667, val accuracy: 0.066667\n",
      "Loss: 1.361240, Train accuracy: 0.933333, val accuracy: 0.066667\n",
      "Loss: 1.337281, Train accuracy: 0.933333, val accuracy: 0.066667\n",
      "Loss: 1.321766, Train accuracy: 0.866667, val accuracy: 0.066667\n",
      "Loss: 1.323676, Train accuracy: 0.866667, val accuracy: 0.066667\n",
      "Loss: 1.323694, Train accuracy: 0.866667, val accuracy: 0.066667\n",
      "Loss: 1.335401, Train accuracy: 0.933333, val accuracy: 0.000000\n",
      "Loss: 1.317678, Train accuracy: 0.933333, val accuracy: 0.066667\n",
      "Loss: 1.307315, Train accuracy: 0.933333, val accuracy: 0.000000\n",
      "Loss: 1.309968, Train accuracy: 0.933333, val accuracy: 0.000000\n",
      "Loss: 1.288400, Train accuracy: 0.933333, val accuracy: 0.000000\n",
      "Loss: 1.299551, Train accuracy: 0.933333, val accuracy: 0.000000\n",
      "Loss: 1.314715, Train accuracy: 0.933333, val accuracy: 0.000000\n",
      "Loss: 1.305751, Train accuracy: 1.000000, val accuracy: 0.000000\n",
      "Loss: 1.286192, Train accuracy: 0.933333, val accuracy: 0.000000\n",
      "Loss: 1.286320, Train accuracy: 0.933333, val accuracy: 0.000000\n",
      "Loss: 1.281689, Train accuracy: 0.933333, val accuracy: 0.000000\n",
      "Loss: 1.287880, Train accuracy: 0.933333, val accuracy: 0.000000\n",
      "Loss: 1.291048, Train accuracy: 0.933333, val accuracy: 0.000000\n",
      "Loss: 1.281946, Train accuracy: 0.933333, val accuracy: 0.000000\n",
      "Loss: 1.272138, Train accuracy: 1.000000, val accuracy: 0.000000\n",
      "Loss: 1.274607, Train accuracy: 1.000000, val accuracy: 0.000000\n",
      "Loss: 1.284217, Train accuracy: 1.000000, val accuracy: 0.000000\n",
      "Loss: 1.277585, Train accuracy: 1.000000, val accuracy: 0.000000\n",
      "Loss: 1.277135, Train accuracy: 1.000000, val accuracy: 0.000000\n",
      "Loss: 1.267351, Train accuracy: 1.000000, val accuracy: 0.000000\n",
      "Loss: 1.272641, Train accuracy: 1.000000, val accuracy: 0.000000\n",
      "Loss: 1.270427, Train accuracy: 1.000000, val accuracy: 0.000000\n",
      "Loss: 1.270550, Train accuracy: 1.000000, val accuracy: 0.000000\n",
      "Loss: 1.271501, Train accuracy: 1.000000, val accuracy: 0.000000\n",
      "Loss: 1.279608, Train accuracy: 1.000000, val accuracy: 0.000000\n",
      "Loss: 1.268384, Train accuracy: 1.000000, val accuracy: 0.000000\n",
      "Loss: 1.264770, Train accuracy: 1.000000, val accuracy: 0.000000\n",
      "Loss: 1.269555, Train accuracy: 1.000000, val accuracy: 0.000000\n",
      "Loss: 1.279670, Train accuracy: 1.000000, val accuracy: 0.000000\n",
      "Loss: 1.273527, Train accuracy: 1.000000, val accuracy: 0.000000\n",
      "Loss: 1.277544, Train accuracy: 1.000000, val accuracy: 0.000000\n",
      "Loss: 1.278784, Train accuracy: 1.000000, val accuracy: 0.000000\n"
     ]
    },
    {
     "name": "stdout",
     "output_type": "stream",
     "text": [
      "Loss: 1.273244, Train accuracy: 1.000000, val accuracy: 0.000000\n",
      "Loss: 1.249732, Train accuracy: 1.000000, val accuracy: 0.000000\n",
      "Loss: 1.262129, Train accuracy: 1.000000, val accuracy: 0.000000\n",
      "Loss: 1.281281, Train accuracy: 1.000000, val accuracy: 0.000000\n",
      "Loss: 1.273871, Train accuracy: 1.000000, val accuracy: 0.000000\n",
      "Loss: 1.283180, Train accuracy: 1.000000, val accuracy: 0.000000\n",
      "Loss: 1.268177, Train accuracy: 1.000000, val accuracy: 0.000000\n",
      "Loss: 1.261782, Train accuracy: 1.000000, val accuracy: 0.000000\n",
      "Loss: 1.275212, Train accuracy: 1.000000, val accuracy: 0.000000\n",
      "Loss: 1.264065, Train accuracy: 1.000000, val accuracy: 0.000000\n",
      "Loss: 1.261238, Train accuracy: 1.000000, val accuracy: 0.000000\n",
      "Loss: 1.262113, Train accuracy: 1.000000, val accuracy: 0.000000\n",
      "Loss: 1.245412, Train accuracy: 1.000000, val accuracy: 0.000000\n",
      "Loss: 1.270398, Train accuracy: 1.000000, val accuracy: 0.000000\n",
      "Loss: 1.264456, Train accuracy: 1.000000, val accuracy: 0.000000\n",
      "Loss: 1.262344, Train accuracy: 1.000000, val accuracy: 0.000000\n",
      "Loss: 1.251151, Train accuracy: 1.000000, val accuracy: 0.000000\n",
      "Loss: 1.254204, Train accuracy: 1.000000, val accuracy: 0.000000\n"
     ]
    }
   ],
   "source": [
    "data_size = 15\n",
    "model = TwoLayerNet(n_input = train_X.shape[1], n_output = 10, hidden_layer_size = 100, reg = 1e-1)\n",
    "dataset = Dataset(train_X[:data_size], train_y[:data_size], val_X[:data_size], val_y[:data_size])\n",
    "trainer = Trainer(model, dataset, SGD(), learning_rate=1e-1, num_epochs=150, batch_size=5)\n",
    "\n",
    "# You should expect this to reach 1.0 training accuracy \n",
    "loss_history, train_history, val_history = trainer.fit()"
   ]
  },
  {
   "cell_type": "markdown",
   "metadata": {},
   "source": [
    "Теперь найдем гипепараметры, для которых этот процесс сходится быстрее.\n",
    "Если все реализовано корректно, то существуют параметры, при которых процесс сходится в **20** эпох или еще быстрее.\n",
    "Найдите их!"
   ]
  },
  {
   "cell_type": "code",
   "execution_count": 19,
   "metadata": {},
   "outputs": [
    {
     "name": "stdout",
     "output_type": "stream",
     "text": [
      "Loss: 2.333018, Train accuracy: 0.200000, val accuracy: 0.066667\n",
      "Loss: 2.323780, Train accuracy: 0.200000, val accuracy: 0.066667\n",
      "Loss: 2.308140, Train accuracy: 0.200000, val accuracy: 0.066667\n",
      "Loss: 2.300735, Train accuracy: 0.333333, val accuracy: 0.066667\n",
      "Loss: 2.291549, Train accuracy: 0.200000, val accuracy: 0.066667\n",
      "Loss: 2.283649, Train accuracy: 0.266667, val accuracy: 0.000000\n",
      "Loss: 2.268543, Train accuracy: 0.266667, val accuracy: 0.000000\n",
      "Loss: 2.245102, Train accuracy: 0.266667, val accuracy: 0.000000\n",
      "Loss: 2.211148, Train accuracy: 0.266667, val accuracy: 0.000000\n",
      "Loss: 2.159149, Train accuracy: 0.400000, val accuracy: 0.000000\n",
      "Loss: 2.112967, Train accuracy: 0.400000, val accuracy: 0.000000\n",
      "Loss: 2.032367, Train accuracy: 0.400000, val accuracy: 0.000000\n",
      "Loss: 1.972028, Train accuracy: 0.400000, val accuracy: 0.000000\n",
      "Loss: 1.942804, Train accuracy: 0.333333, val accuracy: 0.000000\n",
      "Loss: 1.899489, Train accuracy: 0.333333, val accuracy: 0.000000\n",
      "Loss: 1.809719, Train accuracy: 0.333333, val accuracy: 0.000000\n",
      "Loss: 1.850539, Train accuracy: 0.333333, val accuracy: 0.000000\n",
      "Loss: 1.902373, Train accuracy: 0.333333, val accuracy: 0.000000\n",
      "Loss: 1.805924, Train accuracy: 0.400000, val accuracy: 0.000000\n",
      "Loss: 1.780762, Train accuracy: 0.400000, val accuracy: 0.000000\n"
     ]
    }
   ],
   "source": [
    "# Now, tweak some hyper parameters and make it train to 1.0 accuracy in 20 epochs or less\n",
    "\n",
    "model = TwoLayerNet(n_input = train_X.shape[1], n_output = 10, hidden_layer_size = 100, reg = 1e-1)\n",
    "dataset = Dataset(train_X[:data_size], train_y[:data_size], val_X[:data_size], val_y[:data_size])\n",
    "# TODO: Change any hyperparamers or optimizators to reach training accuracy in 20 epochs\n",
    "trainer = Trainer(model, dataset, SGD(), learning_rate=1e-1, num_epochs=20, batch_size=5)\n",
    "\n",
    "loss_history, train_history, val_history = trainer.fit()"
   ]
  },
  {
   "cell_type": "code",
   "execution_count": 20,
   "metadata": {},
   "outputs": [
    {
     "name": "stdout",
     "output_type": "stream",
     "text": [
      "Loss: 2.317983, Train accuracy: 0.200000, val accuracy: 0.133333\n",
      "Loss: 2.301965, Train accuracy: 0.200000, val accuracy: 0.133333\n",
      "Loss: 2.275815, Train accuracy: 0.200000, val accuracy: 0.133333\n",
      "Loss: 2.245223, Train accuracy: 0.266667, val accuracy: 0.000000\n",
      "Loss: 2.207935, Train accuracy: 0.266667, val accuracy: 0.000000\n",
      "Loss: 2.131988, Train accuracy: 0.400000, val accuracy: 0.000000\n",
      "Loss: 1.970007, Train accuracy: 0.400000, val accuracy: 0.000000\n",
      "Loss: 1.829584, Train accuracy: 0.333333, val accuracy: 0.066667\n",
      "Loss: 1.880883, Train accuracy: 0.466667, val accuracy: 0.000000\n",
      "Loss: 1.757226, Train accuracy: 0.466667, val accuracy: 0.133333\n",
      "Loss: 1.813920, Train accuracy: 0.600000, val accuracy: 0.000000\n",
      "Loss: 1.627700, Train accuracy: 0.600000, val accuracy: 0.000000\n",
      "Loss: 1.572237, Train accuracy: 0.600000, val accuracy: 0.000000\n",
      "Loss: 1.528551, Train accuracy: 0.733333, val accuracy: 0.066667\n",
      "Loss: 1.432315, Train accuracy: 0.800000, val accuracy: 0.066667\n",
      "Loss: 1.285182, Train accuracy: 0.866667, val accuracy: 0.000000\n",
      "Loss: 1.318993, Train accuracy: 0.933333, val accuracy: 0.000000\n",
      "Loss: 1.312472, Train accuracy: 1.000000, val accuracy: 0.066667\n",
      "Loss: 1.258885, Train accuracy: 1.000000, val accuracy: 0.000000\n",
      "Loss: 1.140589, Train accuracy: 1.000000, val accuracy: 0.000000\n"
     ]
    }
   ],
   "source": [
    "# Now, tweak some hyper parameters and make it train to 1.0 accuracy in 20 epochs or less\n",
    "\n",
    "model = TwoLayerNet(n_input = train_X.shape[1], n_output = 10, hidden_layer_size = 100, reg = 0.5*1e-1)\n",
    "dataset = Dataset(train_X[:data_size], train_y[:data_size], val_X[:data_size], val_y[:data_size])\n",
    "# TODO: Change any hyperparamers or optimizators to reach training accuracy in 20 epochs\n",
    "trainer = Trainer(model, dataset, MomentumSGD(momentum=0.3), learning_rate=4e-1, num_epochs=20, batch_size=100)\n",
    "\n",
    "loss_history, train_history, val_history = trainer.fit()"
   ]
  },
  {
   "cell_type": "markdown",
   "metadata": {},
   "source": [
    "# Итак, основное мероприятие!\n",
    "\n",
    "Натренируйте лучшую нейросеть! Можно добавлять и изменять параметры, менять количество нейронов в слоях сети и как угодно экспериментировать. \n",
    "\n",
    "Добейтесь точности лучше **40%** на validation set."
   ]
  },
  {
   "cell_type": "code",
   "execution_count": 21,
   "metadata": {
    "scrolled": true
   },
   "outputs": [
    {
     "name": "stdout",
     "output_type": "stream",
     "text": [
      "Loss: 2.333436, Train accuracy: 0.066667, val accuracy: 0.066667\n",
      "Loss: 2.333431, Train accuracy: 0.066667, val accuracy: 0.066667\n",
      "Loss: 2.333422, Train accuracy: 0.066667, val accuracy: 0.066667\n",
      "Loss: 2.333408, Train accuracy: 0.066667, val accuracy: 0.066667\n",
      "Loss: 2.333390, Train accuracy: 0.066667, val accuracy: 0.066667\n",
      "Loss: 2.333369, Train accuracy: 0.066667, val accuracy: 0.066667\n",
      "Loss: 2.333346, Train accuracy: 0.066667, val accuracy: 0.066667\n",
      "Loss: 2.333319, Train accuracy: 0.066667, val accuracy: 0.066667\n",
      "Loss: 2.333290, Train accuracy: 0.066667, val accuracy: 0.066667\n",
      "Loss: 2.333259, Train accuracy: 0.066667, val accuracy: 0.066667\n",
      "Loss: 2.333226, Train accuracy: 0.066667, val accuracy: 0.066667\n",
      "Loss: 2.333191, Train accuracy: 0.066667, val accuracy: 0.066667\n",
      "Loss: 2.333155, Train accuracy: 0.066667, val accuracy: 0.066667\n",
      "Loss: 2.333117, Train accuracy: 0.066667, val accuracy: 0.066667\n",
      "Loss: 2.333078, Train accuracy: 0.066667, val accuracy: 0.066667\n",
      "Loss: 2.333038, Train accuracy: 0.066667, val accuracy: 0.066667\n",
      "Loss: 2.332997, Train accuracy: 0.066667, val accuracy: 0.066667\n",
      "Loss: 2.332955, Train accuracy: 0.066667, val accuracy: 0.066667\n",
      "Loss: 2.332913, Train accuracy: 0.066667, val accuracy: 0.066667\n",
      "Loss: 2.332869, Train accuracy: 0.200000, val accuracy: 0.066667\n",
      "Loss: 2.332825, Train accuracy: 0.200000, val accuracy: 0.133333\n",
      "Loss: 2.332781, Train accuracy: 0.200000, val accuracy: 0.133333\n",
      "Loss: 2.332735, Train accuracy: 0.200000, val accuracy: 0.133333\n",
      "Loss: 2.332690, Train accuracy: 0.200000, val accuracy: 0.133333\n",
      "Loss: 2.332644, Train accuracy: 0.200000, val accuracy: 0.133333\n",
      "Loss: 2.332598, Train accuracy: 0.200000, val accuracy: 0.133333\n",
      "Loss: 2.332551, Train accuracy: 0.200000, val accuracy: 0.133333\n",
      "Loss: 2.332504, Train accuracy: 0.200000, val accuracy: 0.133333\n",
      "Loss: 2.332457, Train accuracy: 0.200000, val accuracy: 0.133333\n",
      "Loss: 2.332410, Train accuracy: 0.200000, val accuracy: 0.133333\n",
      "Loss: 2.332363, Train accuracy: 0.200000, val accuracy: 0.133333\n",
      "Loss: 2.332315, Train accuracy: 0.200000, val accuracy: 0.133333\n",
      "Loss: 2.332268, Train accuracy: 0.200000, val accuracy: 0.133333\n",
      "Loss: 2.332220, Train accuracy: 0.200000, val accuracy: 0.133333\n",
      "Loss: 2.332172, Train accuracy: 0.200000, val accuracy: 0.133333\n",
      "Loss: 2.332124, Train accuracy: 0.200000, val accuracy: 0.133333\n",
      "Loss: 2.332076, Train accuracy: 0.200000, val accuracy: 0.133333\n",
      "Loss: 2.332028, Train accuracy: 0.200000, val accuracy: 0.133333\n",
      "Loss: 2.331980, Train accuracy: 0.200000, val accuracy: 0.133333\n",
      "Loss: 2.331932, Train accuracy: 0.200000, val accuracy: 0.133333\n",
      "Loss: 2.331884, Train accuracy: 0.200000, val accuracy: 0.133333\n",
      "Loss: 2.331836, Train accuracy: 0.200000, val accuracy: 0.133333\n",
      "Loss: 2.331788, Train accuracy: 0.200000, val accuracy: 0.133333\n",
      "Loss: 2.331740, Train accuracy: 0.200000, val accuracy: 0.133333\n",
      "Loss: 2.331692, Train accuracy: 0.200000, val accuracy: 0.133333\n",
      "Loss: 2.331644, Train accuracy: 0.200000, val accuracy: 0.133333\n",
      "Loss: 2.331596, Train accuracy: 0.200000, val accuracy: 0.133333\n",
      "Loss: 2.331548, Train accuracy: 0.200000, val accuracy: 0.133333\n",
      "Loss: 2.331500, Train accuracy: 0.200000, val accuracy: 0.133333\n",
      "Loss: 2.331452, Train accuracy: 0.200000, val accuracy: 0.133333\n",
      "Loss: 2.331404, Train accuracy: 0.200000, val accuracy: 0.133333\n",
      "Loss: 2.331356, Train accuracy: 0.200000, val accuracy: 0.133333\n",
      "Loss: 2.331309, Train accuracy: 0.200000, val accuracy: 0.133333\n",
      "Loss: 2.331261, Train accuracy: 0.200000, val accuracy: 0.133333\n",
      "Loss: 2.331213, Train accuracy: 0.200000, val accuracy: 0.133333\n",
      "Loss: 2.331166, Train accuracy: 0.200000, val accuracy: 0.133333\n",
      "Loss: 2.331118, Train accuracy: 0.200000, val accuracy: 0.133333\n",
      "Loss: 2.331071, Train accuracy: 0.200000, val accuracy: 0.133333\n",
      "Loss: 2.331024, Train accuracy: 0.200000, val accuracy: 0.133333\n",
      "Loss: 2.330976, Train accuracy: 0.200000, val accuracy: 0.133333\n",
      "Loss: 2.330929, Train accuracy: 0.200000, val accuracy: 0.133333\n",
      "Loss: 2.330882, Train accuracy: 0.200000, val accuracy: 0.133333\n",
      "Loss: 2.330835, Train accuracy: 0.200000, val accuracy: 0.133333\n",
      "Loss: 2.330788, Train accuracy: 0.200000, val accuracy: 0.133333\n",
      "Loss: 2.330741, Train accuracy: 0.200000, val accuracy: 0.133333\n",
      "Loss: 2.330694, Train accuracy: 0.200000, val accuracy: 0.133333\n",
      "Loss: 2.330647, Train accuracy: 0.200000, val accuracy: 0.133333\n",
      "Loss: 2.330600, Train accuracy: 0.200000, val accuracy: 0.133333\n",
      "Loss: 2.330553, Train accuracy: 0.200000, val accuracy: 0.133333\n",
      "Loss: 2.330506, Train accuracy: 0.200000, val accuracy: 0.133333\n",
      "Loss: 2.330460, Train accuracy: 0.200000, val accuracy: 0.133333\n",
      "Loss: 2.330413, Train accuracy: 0.200000, val accuracy: 0.133333\n",
      "Loss: 2.330367, Train accuracy: 0.200000, val accuracy: 0.133333\n",
      "Loss: 2.330320, Train accuracy: 0.200000, val accuracy: 0.133333\n",
      "Loss: 2.330274, Train accuracy: 0.200000, val accuracy: 0.133333\n",
      "Loss: 2.330228, Train accuracy: 0.200000, val accuracy: 0.133333\n",
      "Loss: 2.330182, Train accuracy: 0.200000, val accuracy: 0.133333\n",
      "Loss: 2.330135, Train accuracy: 0.200000, val accuracy: 0.133333\n",
      "Loss: 2.330089, Train accuracy: 0.200000, val accuracy: 0.133333\n",
      "Loss: 2.330043, Train accuracy: 0.200000, val accuracy: 0.133333\n",
      "Loss: 2.329997, Train accuracy: 0.200000, val accuracy: 0.133333\n",
      "Loss: 2.329952, Train accuracy: 0.200000, val accuracy: 0.133333\n",
      "Loss: 2.329906, Train accuracy: 0.200000, val accuracy: 0.133333\n",
      "Loss: 2.329860, Train accuracy: 0.200000, val accuracy: 0.133333\n",
      "Loss: 2.329814, Train accuracy: 0.200000, val accuracy: 0.133333\n",
      "Loss: 2.329769, Train accuracy: 0.200000, val accuracy: 0.133333\n",
      "Loss: 2.329723, Train accuracy: 0.200000, val accuracy: 0.133333\n",
      "Loss: 2.329678, Train accuracy: 0.200000, val accuracy: 0.133333\n",
      "Loss: 2.329632, Train accuracy: 0.200000, val accuracy: 0.133333\n",
      "Loss: 2.329587, Train accuracy: 0.200000, val accuracy: 0.133333\n",
      "Loss: 2.329542, Train accuracy: 0.200000, val accuracy: 0.133333\n",
      "Loss: 2.329497, Train accuracy: 0.200000, val accuracy: 0.133333\n",
      "Loss: 2.329451, Train accuracy: 0.200000, val accuracy: 0.133333\n",
      "Loss: 2.329406, Train accuracy: 0.200000, val accuracy: 0.133333\n",
      "Loss: 2.329361, Train accuracy: 0.200000, val accuracy: 0.133333\n",
      "Loss: 2.329317, Train accuracy: 0.200000, val accuracy: 0.133333\n",
      "Loss: 2.329272, Train accuracy: 0.200000, val accuracy: 0.133333\n",
      "Loss: 2.329227, Train accuracy: 0.200000, val accuracy: 0.133333\n",
      "Loss: 2.329182, Train accuracy: 0.200000, val accuracy: 0.133333\n",
      "Loss: 2.329138, Train accuracy: 0.200000, val accuracy: 0.133333\n",
      "Loss: 2.329093, Train accuracy: 0.200000, val accuracy: 0.133333\n",
      "Loss: 2.329048, Train accuracy: 0.200000, val accuracy: 0.133333\n",
      "Loss: 2.329004, Train accuracy: 0.200000, val accuracy: 0.133333\n",
      "Loss: 2.328960, Train accuracy: 0.200000, val accuracy: 0.133333\n",
      "Loss: 2.328915, Train accuracy: 0.200000, val accuracy: 0.133333\n",
      "Loss: 2.328871, Train accuracy: 0.200000, val accuracy: 0.133333\n",
      "Loss: 2.328827, Train accuracy: 0.200000, val accuracy: 0.133333\n",
      "Loss: 2.328783, Train accuracy: 0.200000, val accuracy: 0.133333\n",
      "Loss: 2.328739, Train accuracy: 0.200000, val accuracy: 0.133333\n",
      "Loss: 2.328695, Train accuracy: 0.200000, val accuracy: 0.133333\n",
      "Loss: 2.328651, Train accuracy: 0.200000, val accuracy: 0.133333\n",
      "Loss: 2.328607, Train accuracy: 0.200000, val accuracy: 0.133333\n",
      "Loss: 2.328563, Train accuracy: 0.200000, val accuracy: 0.133333\n",
      "Loss: 2.328519, Train accuracy: 0.200000, val accuracy: 0.133333\n",
      "Loss: 2.328476, Train accuracy: 0.200000, val accuracy: 0.133333\n",
      "Loss: 2.328432, Train accuracy: 0.200000, val accuracy: 0.133333\n",
      "Loss: 2.328389, Train accuracy: 0.200000, val accuracy: 0.133333\n",
      "Loss: 2.328345, Train accuracy: 0.200000, val accuracy: 0.133333\n",
      "Loss: 2.328302, Train accuracy: 0.200000, val accuracy: 0.133333\n",
      "Loss: 2.328258, Train accuracy: 0.200000, val accuracy: 0.133333\n",
      "Loss: 2.328215, Train accuracy: 0.200000, val accuracy: 0.133333\n",
      "Loss: 2.328172, Train accuracy: 0.200000, val accuracy: 0.133333\n",
      "Loss: 2.328129, Train accuracy: 0.200000, val accuracy: 0.133333\n",
      "Loss: 2.328086, Train accuracy: 0.200000, val accuracy: 0.133333\n",
      "Loss: 2.328043, Train accuracy: 0.200000, val accuracy: 0.133333\n",
      "Loss: 2.328000, Train accuracy: 0.200000, val accuracy: 0.133333\n",
      "Loss: 2.327957, Train accuracy: 0.200000, val accuracy: 0.133333\n",
      "Loss: 2.327914, Train accuracy: 0.200000, val accuracy: 0.133333\n",
      "Loss: 2.327871, Train accuracy: 0.200000, val accuracy: 0.133333\n",
      "Loss: 2.327829, Train accuracy: 0.200000, val accuracy: 0.133333\n",
      "Loss: 2.327786, Train accuracy: 0.200000, val accuracy: 0.133333\n",
      "Loss: 2.327743, Train accuracy: 0.200000, val accuracy: 0.133333\n",
      "Loss: 2.327701, Train accuracy: 0.200000, val accuracy: 0.133333\n",
      "Loss: 2.327658, Train accuracy: 0.200000, val accuracy: 0.133333\n",
      "Loss: 2.327616, Train accuracy: 0.200000, val accuracy: 0.133333\n"
     ]
    },
    {
     "name": "stdout",
     "output_type": "stream",
     "text": [
      "Loss: 2.327574, Train accuracy: 0.200000, val accuracy: 0.133333\n",
      "Loss: 2.327531, Train accuracy: 0.200000, val accuracy: 0.133333\n",
      "Loss: 2.327489, Train accuracy: 0.200000, val accuracy: 0.133333\n",
      "Loss: 2.327447, Train accuracy: 0.200000, val accuracy: 0.133333\n",
      "Loss: 2.327405, Train accuracy: 0.200000, val accuracy: 0.133333\n",
      "Loss: 2.327363, Train accuracy: 0.200000, val accuracy: 0.133333\n",
      "Loss: 2.327321, Train accuracy: 0.200000, val accuracy: 0.133333\n",
      "Loss: 2.327279, Train accuracy: 0.200000, val accuracy: 0.133333\n",
      "Loss: 2.327237, Train accuracy: 0.200000, val accuracy: 0.133333\n",
      "Loss: 2.327195, Train accuracy: 0.200000, val accuracy: 0.133333\n",
      "Loss: 2.327154, Train accuracy: 0.200000, val accuracy: 0.133333\n",
      "Loss: 2.327112, Train accuracy: 0.200000, val accuracy: 0.133333\n",
      "Loss: 2.327070, Train accuracy: 0.200000, val accuracy: 0.133333\n",
      "Loss: 2.327029, Train accuracy: 0.200000, val accuracy: 0.133333\n",
      "Loss: 2.326987, Train accuracy: 0.200000, val accuracy: 0.133333\n",
      "Loss: 2.326946, Train accuracy: 0.200000, val accuracy: 0.133333\n",
      "Loss: 2.326905, Train accuracy: 0.200000, val accuracy: 0.133333\n",
      "Loss: 2.326863, Train accuracy: 0.200000, val accuracy: 0.133333\n",
      "Loss: 2.326822, Train accuracy: 0.200000, val accuracy: 0.133333\n",
      "Loss: 2.326781, Train accuracy: 0.200000, val accuracy: 0.133333\n",
      "Loss: 2.326740, Train accuracy: 0.200000, val accuracy: 0.133333\n",
      "Loss: 2.326699, Train accuracy: 0.200000, val accuracy: 0.133333\n",
      "Loss: 2.326658, Train accuracy: 0.200000, val accuracy: 0.133333\n",
      "Loss: 2.326617, Train accuracy: 0.200000, val accuracy: 0.133333\n",
      "Loss: 2.326576, Train accuracy: 0.200000, val accuracy: 0.133333\n",
      "Loss: 2.326535, Train accuracy: 0.200000, val accuracy: 0.133333\n",
      "Loss: 2.326494, Train accuracy: 0.200000, val accuracy: 0.133333\n",
      "Loss: 2.326454, Train accuracy: 0.200000, val accuracy: 0.133333\n",
      "Loss: 2.326413, Train accuracy: 0.200000, val accuracy: 0.133333\n",
      "Loss: 2.326373, Train accuracy: 0.200000, val accuracy: 0.133333\n",
      "Loss: 2.326332, Train accuracy: 0.200000, val accuracy: 0.133333\n",
      "Loss: 2.326292, Train accuracy: 0.200000, val accuracy: 0.133333\n",
      "Loss: 2.326251, Train accuracy: 0.200000, val accuracy: 0.133333\n",
      "Loss: 2.326211, Train accuracy: 0.200000, val accuracy: 0.133333\n",
      "Loss: 2.326171, Train accuracy: 0.200000, val accuracy: 0.133333\n",
      "Loss: 2.326130, Train accuracy: 0.200000, val accuracy: 0.133333\n",
      "Loss: 2.326090, Train accuracy: 0.200000, val accuracy: 0.133333\n",
      "Loss: 2.326050, Train accuracy: 0.200000, val accuracy: 0.133333\n",
      "Loss: 2.326010, Train accuracy: 0.200000, val accuracy: 0.133333\n",
      "Loss: 2.325970, Train accuracy: 0.200000, val accuracy: 0.133333\n",
      "Loss: 2.325930, Train accuracy: 0.200000, val accuracy: 0.133333\n",
      "Loss: 2.325890, Train accuracy: 0.200000, val accuracy: 0.133333\n",
      "Loss: 2.325850, Train accuracy: 0.200000, val accuracy: 0.133333\n",
      "Loss: 2.325811, Train accuracy: 0.200000, val accuracy: 0.133333\n",
      "Loss: 2.325771, Train accuracy: 0.200000, val accuracy: 0.133333\n",
      "Loss: 2.325731, Train accuracy: 0.200000, val accuracy: 0.133333\n",
      "Loss: 2.325692, Train accuracy: 0.200000, val accuracy: 0.133333\n",
      "Loss: 2.325652, Train accuracy: 0.200000, val accuracy: 0.133333\n",
      "Loss: 2.325613, Train accuracy: 0.200000, val accuracy: 0.133333\n",
      "Loss: 2.325573, Train accuracy: 0.200000, val accuracy: 0.133333\n",
      "Loss: 2.325534, Train accuracy: 0.200000, val accuracy: 0.133333\n",
      "Loss: 2.325495, Train accuracy: 0.200000, val accuracy: 0.133333\n",
      "Loss: 2.325455, Train accuracy: 0.200000, val accuracy: 0.133333\n",
      "Loss: 2.325416, Train accuracy: 0.200000, val accuracy: 0.133333\n",
      "Loss: 2.325377, Train accuracy: 0.200000, val accuracy: 0.133333\n",
      "Loss: 2.325338, Train accuracy: 0.200000, val accuracy: 0.133333\n",
      "Loss: 2.325299, Train accuracy: 0.200000, val accuracy: 0.133333\n",
      "Loss: 2.325260, Train accuracy: 0.200000, val accuracy: 0.133333\n",
      "Loss: 2.325221, Train accuracy: 0.200000, val accuracy: 0.133333\n",
      "Loss: 2.325182, Train accuracy: 0.200000, val accuracy: 0.133333\n",
      "Loss: 2.325143, Train accuracy: 0.200000, val accuracy: 0.133333\n",
      "Loss: 2.325105, Train accuracy: 0.200000, val accuracy: 0.133333\n",
      "Loss: 2.325066, Train accuracy: 0.200000, val accuracy: 0.133333\n",
      "Loss: 2.325027, Train accuracy: 0.200000, val accuracy: 0.133333\n",
      "Loss: 2.324989, Train accuracy: 0.200000, val accuracy: 0.133333\n",
      "best validation accuracy achieved: 0.133333\n"
     ]
    }
   ],
   "source": [
    "# Let's train the best one-hidden-layer network we can\n",
    "\n",
    "learning_rate = 1e-4\n",
    "reg_strength = 1e-3\n",
    "learning_rate_decay = 0.999\n",
    "hidden_layer_size = 128\n",
    "num_epochs = 200\n",
    "batch_size = 64\n",
    "\n",
    "best_classifier = None\n",
    "best_val_accuracy = None\n",
    "\n",
    "loss_history = []\n",
    "train_history = []\n",
    "val_history = []\n",
    "\n",
    "# TODO find the best hyperparameters to train the network\n",
    "# Don't hesitate to add new values to the arrays above, perform experiments, use any tricks you want\n",
    "# You should expect to get to at least 40% of valudation accuracy\n",
    "# Save loss/train/history of the best classifier to the variables above\n",
    "\n",
    "model = TwoLayerNet(n_input = train_X.shape[1], n_output = 10, hidden_layer_size = 100, reg = 1e-1)\n",
    "dataset = Dataset(train_X[:data_size], train_y[:data_size], val_X[:data_size], val_y[:data_size])\n",
    "# TODO: Change any hyperparamers or optimizators to reach training accuracy in 20 epochs\n",
    "trainer = Trainer(model, dataset, MomentumSGD(momentum=0.2), num_epochs, batch_size, learning_rate, learning_rate_decay)\n",
    "\n",
    "loss_history, train_history, val_history = trainer.fit()\n",
    "\n",
    "best_val_accuracy = np.max(val_history)  # FIXME\n",
    "\n",
    "print('best validation accuracy achieved: %f' % best_val_accuracy)"
   ]
  },
  {
   "cell_type": "code",
   "execution_count": 22,
   "metadata": {},
   "outputs": [
    {
     "data": {
      "text/plain": [
       "[<matplotlib.lines.Line2D at 0x15a493b2400>]"
      ]
     },
     "execution_count": 22,
     "metadata": {},
     "output_type": "execute_result"
    },
    {
     "data": {
      "image/png": "[encoded data removed]",
      "text/plain": [
       "<Figure size 1080x504 with 2 Axes>"
      ]
     },
     "metadata": {
      "needs_background": "light"
     },
     "output_type": "display_data"
    }
   ],
   "source": [
    "plt.figure(figsize=(15, 7))\n",
    "plt.subplot(211)\n",
    "plt.title(\"Loss\")\n",
    "plt.plot(loss_history)\n",
    "plt.subplot(212)\n",
    "plt.title(\"Train/validation accuracy\")\n",
    "plt.plot(train_history)\n",
    "plt.plot(val_history)"
   ]
  },
  {
   "cell_type": "markdown",
   "metadata": {},
   "source": [
    "# Как обычно, посмотрим, как наша лучшая модель работает на тестовых данных"
   ]
  },
  {
   "cell_type": "code",
   "execution_count": 19,
   "metadata": {},
   "outputs": [
    {
     "ename": "AttributeError",
     "evalue": "'NoneType' object has no attribute 'predict'",
     "output_type": "error",
     "traceback": [
      "\u001b[1;31m---------------------------------------------------------------------------\u001b[0m",
      "\u001b[1;31mAttributeError\u001b[0m                            Traceback (most recent call last)",
      "\u001b[1;32m<ipython-input-19-83c278478367>\u001b[0m in \u001b[0;36m<module>\u001b[1;34m\u001b[0m\n\u001b[1;32m----> 1\u001b[1;33m \u001b[0mtest_pred\u001b[0m \u001b[1;33m=\u001b[0m \u001b[0mbest_classifier\u001b[0m\u001b[1;33m.\u001b[0m\u001b[0mpredict\u001b[0m\u001b[1;33m(\u001b[0m\u001b[0mtest_X\u001b[0m\u001b[1;33m)\u001b[0m\u001b[1;33m\u001b[0m\u001b[1;33m\u001b[0m\u001b[0m\n\u001b[0m\u001b[0;32m      2\u001b[0m \u001b[0mtest_accuracy\u001b[0m \u001b[1;33m=\u001b[0m \u001b[0mmulticlass_accuracy\u001b[0m\u001b[1;33m(\u001b[0m\u001b[0mtest_pred\u001b[0m\u001b[1;33m,\u001b[0m \u001b[0mtest_y\u001b[0m\u001b[1;33m)\u001b[0m\u001b[1;33m\u001b[0m\u001b[1;33m\u001b[0m\u001b[0m\n\u001b[0;32m      3\u001b[0m \u001b[0mprint\u001b[0m\u001b[1;33m(\u001b[0m\u001b[1;34m'Neural net test set accuracy: %f'\u001b[0m \u001b[1;33m%\u001b[0m \u001b[1;33m(\u001b[0m\u001b[0mtest_accuracy\u001b[0m\u001b[1;33m,\u001b[0m \u001b[1;33m)\u001b[0m\u001b[1;33m)\u001b[0m\u001b[1;33m\u001b[0m\u001b[1;33m\u001b[0m\u001b[0m\n",
      "\u001b[1;31mAttributeError\u001b[0m: 'NoneType' object has no attribute 'predict'"
     ]
    }
   ],
   "source": [
    "test_pred = best_classifier.predict(test_X)\n",
    "test_accuracy = multiclass_accuracy(test_pred, test_y)\n",
    "print('Neural net test set accuracy: %f' % (test_accuracy, ))"
   ]
  },
  {
   "cell_type": "code",
   "execution_count": null,
   "metadata": {},
   "outputs": [],
   "source": []
  }
 ],
 "metadata": {
  "kernelspec": {
   "display_name": "Python 3",
   "language": "python",
   "name": "python3"
  },
  "language_info": {
   "codemirror_mode": {
    "name": "ipython",
    "version": 3
   },
   "file_extension": ".py",
   "mimetype": "text/x-python",
   "name": "python",
   "nbconvert_exporter": "python",
   "pygments_lexer": "ipython3",
   "version": "3.7.2"
  }
 },
 "nbformat": 4,
 "nbformat_minor": 2
}
