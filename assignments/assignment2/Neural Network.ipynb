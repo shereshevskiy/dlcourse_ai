{
 "cells": [
  {
   "cell_type": "markdown",
   "metadata": {},
   "source": [
    "# Задание 2.1 - Нейронные сети\n",
    "\n",
    "В этом задании вы реализуете и натренируете настоящую нейроную сеть своими руками!\n",
    "\n",
    "В некотором смысле это будет расширением прошлого задания - нам нужно просто составить несколько линейных классификаторов вместе!\n",
    "\n",
    "<img src=\"https://i.redd.it/n9fgba8b0qr01.png\" alt=\"Stack_more_layers\" width=\"400px\"/>"
   ]
  },
  {
   "cell_type": "code",
   "execution_count": 1,
   "metadata": {},
   "outputs": [],
   "source": [
    "import numpy as np\n",
    "import matplotlib.pyplot as plt\n",
    "import os\n",
    "\n",
    "%matplotlib inline\n",
    "\n",
    "%load_ext autoreload\n",
    "%autoreload 2"
   ]
  },
  {
   "cell_type": "code",
   "execution_count": 2,
   "metadata": {},
   "outputs": [],
   "source": [
    "from dataset import load_svhn, random_split_train_val\n",
    "from gradient_check import check_layer_gradient, check_layer_param_gradient, check_model_gradient\n",
    "from layers import FullyConnectedLayer, ReLULayer\n",
    "from model import TwoLayerNet\n",
    "from trainer import Trainer, Dataset\n",
    "from optim import SGD, MomentumSGD\n",
    "from metrics import multiclass_accuracy"
   ]
  },
  {
   "cell_type": "markdown",
   "metadata": {},
   "source": [
    "# Загружаем данные\n",
    "\n",
    "И разделяем их на training и validation."
   ]
  },
  {
   "cell_type": "code",
   "execution_count": 3,
   "metadata": {},
   "outputs": [],
   "source": [
    "def prepare_for_neural_network(train_X, test_X):\n",
    "    train_flat = train_X.reshape(train_X.shape[0], -1).astype(np.float) / 255.0\n",
    "    test_flat = test_X.reshape(test_X.shape[0], -1).astype(np.float) / 255.0\n",
    "    \n",
    "    # Subtract mean\n",
    "    mean_image = np.mean(train_flat, axis = 0)\n",
    "    train_flat -= mean_image\n",
    "    test_flat -= mean_image\n",
    "    \n",
    "    return train_flat, test_flat\n",
    "    \n",
    "train_X, train_y, test_X, test_y = load_svhn(os.path.join(\"..\", \"data\"), max_train=10000, max_test=1000)    \n",
    "train_X, test_X = prepare_for_neural_network(train_X, test_X)\n",
    "# Split train into train and val\n",
    "train_X, train_y, val_X, val_y = random_split_train_val(train_X, train_y, num_val = 1000)"
   ]
  },
  {
   "cell_type": "markdown",
   "metadata": {},
   "source": [
    "# Как всегда, начинаем с кирпичиков\n",
    "\n",
    "Мы будем реализовывать необходимые нам слои по очереди. Каждый слой должен реализовать:\n",
    "- прямой проход (forward pass), который генерирует выход слоя по входу и запоминает необходимые данные\n",
    "- обратный проход (backward pass), который получает градиент по выходу слоя и вычисляет градиент по входу и по параметрам\n",
    "\n",
    "Начнем с ReLU, у которого параметров нет."
   ]
  },
  {
   "cell_type": "code",
   "execution_count": 4,
   "metadata": {
    "scrolled": false
   },
   "outputs": [
    {
     "name": "stdout",
     "output_type": "stream",
     "text": [
      "Gradient check passed!\n"
     ]
    }
   ],
   "source": [
    "# TODO: Implement ReLULayer layer in layers.py\n",
    "# Note: you'll need to copy implementation of the gradient_check function from the previous assignment\n",
    "\n",
    "X = np.array([[1,-2,3],\n",
    "              [-1, 2, 0.1]\n",
    "              ])\n",
    "\n",
    "assert check_layer_gradient(ReLULayer(), X)"
   ]
  },
  {
   "cell_type": "markdown",
   "metadata": {},
   "source": [
    "А теперь реализуем полносвязный слой (fully connected layer), у которого будет два массива параметров: W (weights) и B (bias).\n",
    "\n",
    "Все параметры наши слои будут использовать для параметров специальный класс `Param`, в котором будут храниться значения параметров и градиенты этих параметров, вычисляемые во время обратного прохода.\n",
    "\n",
    "Это даст возможность аккумулировать (суммировать) градиенты из разных частей функции потерь, например, из cross-entropy loss и regularization loss."
   ]
  },
  {
   "cell_type": "code",
   "execution_count": 5,
   "metadata": {},
   "outputs": [
    {
     "name": "stdout",
     "output_type": "stream",
     "text": [
      "Gradient check passed!\n",
      "Gradient check passed!\n",
      "Gradient check passed!\n"
     ]
    }
   ],
   "source": [
    "# TODO: Implement FullyConnected layer forward and backward methods\n",
    "assert check_layer_gradient(FullyConnectedLayer(3, 4), X)\n",
    "# TODO: Implement storing gradients for W and B\n",
    "assert check_layer_param_gradient(FullyConnectedLayer(3, 4), X, 'W')\n",
    "assert check_layer_param_gradient(FullyConnectedLayer(3, 4), X, 'B')"
   ]
  },
  {
   "cell_type": "markdown",
   "metadata": {},
   "source": [
    "## Создаем нейронную сеть\n",
    "\n",
    "Теперь мы реализуем простейшую нейронную сеть с двумя полносвязным слоями и нелинейностью ReLU. Реализуйте функцию `compute_loss_and_gradients`, она должна запустить прямой и обратный проход через оба слоя для вычисления градиентов.\n",
    "\n",
    "Не забудьте реализовать очистку градиентов в начале функции."
   ]
  },
  {
   "cell_type": "code",
   "execution_count": 22,
   "metadata": {},
   "outputs": [
    {
     "name": "stdout",
     "output_type": "stream",
     "text": [
      "Checking gradient for W1\n",
      "Gradient check passed!\n",
      "Checking gradient for B1\n",
      "Gradient check passed!\n",
      "Checking gradient for W2\n",
      "Gradient check passed!\n",
      "Checking gradient for B2\n",
      "Gradient check passed!\n"
     ]
    },
    {
     "data": {
      "text/plain": [
       "True"
      ]
     },
     "execution_count": 22,
     "metadata": {},
     "output_type": "execute_result"
    }
   ],
   "source": [
    "# TODO: In model.py, implement compute_loss_and_gradients function\n",
    "model = TwoLayerNet(n_input = train_X.shape[1], n_output = 10, hidden_layer_size = 3, reg = 0)\n",
    "loss = model.compute_loss_and_gradients(train_X[:2], train_y[:2])\n",
    "\n",
    "# TODO Now implement backward pass and aggregate all of the params\n",
    "check_model_gradient(model, train_X[:2], train_y[:2])"
   ]
  },
  {
   "cell_type": "markdown",
   "metadata": {},
   "source": [
    "Теперь добавьте к модели регуляризацию - она должна прибавляться к loss и делать свой вклад в градиенты."
   ]
  },
  {
   "cell_type": "code",
   "execution_count": 23,
   "metadata": {},
   "outputs": [
    {
     "name": "stdout",
     "output_type": "stream",
     "text": [
      "Checking gradient for W1\n",
      "Gradient check passed!\n",
      "Checking gradient for B1\n",
      "Gradient check passed!\n",
      "Checking gradient for W2\n",
      "Gradient check passed!\n",
      "Checking gradient for B2\n",
      "Gradient check passed!\n"
     ]
    },
    {
     "data": {
      "text/plain": [
       "True"
      ]
     },
     "execution_count": 23,
     "metadata": {},
     "output_type": "execute_result"
    }
   ],
   "source": [
    "# TODO Now implement l2 regularization in the forward and backward pass\n",
    "model_with_reg = TwoLayerNet(n_input = train_X.shape[1], n_output = 10, hidden_layer_size = 3, reg = 1e1)\n",
    "loss_with_reg = model_with_reg.compute_loss_and_gradients(train_X[:2], train_y[:2])\n",
    "assert loss_with_reg > loss and not np.isclose(loss_with_reg, loss), \\\n",
    "    \"Loss with regularization (%2.4f) should be higher than without it (%2.4f)!\" % (loss, loss_with_reg)\n",
    "\n",
    "check_model_gradient(model_with_reg, train_X[:2], train_y[:2])"
   ]
  },
  {
   "cell_type": "markdown",
   "metadata": {},
   "source": [
    "Также реализуем функцию предсказания (вычисления значения) модели на новых данных.\n",
    "\n",
    "Какое значение точности мы ожидаем увидеть до начала тренировки?"
   ]
  },
  {
   "cell_type": "code",
   "execution_count": 8,
   "metadata": {},
   "outputs": [
    {
     "data": {
      "text/plain": [
       "0.1"
      ]
     },
     "execution_count": 8,
     "metadata": {},
     "output_type": "execute_result"
    }
   ],
   "source": [
    "# Finally, implement predict function!\n",
    "\n",
    "# TODO: Implement predict function\n",
    "# What would be the value we expect?\n",
    "multiclass_accuracy(model_with_reg.predict(train_X[:30]), train_y[:30]) "
   ]
  },
  {
   "cell_type": "markdown",
   "metadata": {},
   "source": [
    "# Допишем код для процесса тренировки"
   ]
  },
  {
   "cell_type": "code",
   "execution_count": 9,
   "metadata": {
    "scrolled": false
   },
   "outputs": [
    {
     "name": "stdout",
     "output_type": "stream",
     "text": [
      "Loss: 2.474991, Train accuracy: 0.196667, val accuracy: 0.206000\n",
      "Loss: 2.302183, Train accuracy: 0.196667, val accuracy: 0.206000\n",
      "Loss: 2.302180, Train accuracy: 0.196667, val accuracy: 0.206000\n",
      "Loss: 2.302186, Train accuracy: 0.196667, val accuracy: 0.206000\n",
      "Loss: 2.302185, Train accuracy: 0.196667, val accuracy: 0.206000\n",
      "Loss: 2.302181, Train accuracy: 0.196667, val accuracy: 0.206000\n",
      "Loss: 2.302182, Train accuracy: 0.196667, val accuracy: 0.206000\n",
      "Loss: 2.302184, Train accuracy: 0.196667, val accuracy: 0.206000\n",
      "Loss: 2.302184, Train accuracy: 0.196667, val accuracy: 0.206000\n",
      "Loss: 2.302186, Train accuracy: 0.196667, val accuracy: 0.206000\n",
      "Loss: 2.302185, Train accuracy: 0.196667, val accuracy: 0.206000\n",
      "Loss: 2.302183, Train accuracy: 0.196667, val accuracy: 0.206000\n",
      "Loss: 2.302182, Train accuracy: 0.196667, val accuracy: 0.206000\n",
      "Loss: 2.302185, Train accuracy: 0.196667, val accuracy: 0.206000\n",
      "Loss: 2.302184, Train accuracy: 0.196667, val accuracy: 0.206000\n",
      "Loss: 2.302182, Train accuracy: 0.196667, val accuracy: 0.206000\n",
      "Loss: 2.302183, Train accuracy: 0.196667, val accuracy: 0.206000\n",
      "Loss: 2.302184, Train accuracy: 0.196667, val accuracy: 0.206000\n",
      "Loss: 2.302184, Train accuracy: 0.196667, val accuracy: 0.206000\n",
      "Loss: 2.302183, Train accuracy: 0.196667, val accuracy: 0.206000\n"
     ]
    }
   ],
   "source": [
    "model = TwoLayerNet(n_input = train_X.shape[1], n_output = 10, hidden_layer_size = 100, reg = 1e1)\n",
    "dataset = Dataset(train_X, train_y, val_X, val_y)\n",
    "trainer = Trainer(model, dataset, SGD())\n",
    "\n",
    "# TODO Implement missing pieces in Trainer.fit function\n",
    "# You should expect loss to go down and train and val accuracy go up for every epoch\n",
    "loss_history, train_history, val_history = trainer.fit()"
   ]
  },
  {
   "cell_type": "code",
   "execution_count": 10,
   "metadata": {},
   "outputs": [
    {
     "data": {
      "text/plain": [
       "[<matplotlib.lines.Line2D at 0x17902298be0>]"
      ]
     },
     "execution_count": 10,
     "metadata": {},
     "output_type": "execute_result"
    },
    {
     "data": {
      "image/png": "[encoded data removed]",
      "text/plain": [
       "<Figure size 432x288 with 1 Axes>"
      ]
     },
     "metadata": {
      "needs_background": "light"
     },
     "output_type": "display_data"
    }
   ],
   "source": [
    "plt.plot(train_history)\n",
    "plt.plot(val_history)"
   ]
  },
  {
   "cell_type": "code",
   "execution_count": 11,
   "metadata": {},
   "outputs": [],
   "source": [
    "class Layer:\n",
    "    def forward(self, x):\n",
    "        result = ... # промежуточные вычисления\n",
    "        self.x = x # сохраняем значения, которые нам\n",
    "                   # понадобятся при обратном проходе\n",
    "        return result\n",
    "    \n",
    "    def backward(self, grad):\n",
    "        dx = ... # используем сохраненные значения, чтобы \n",
    "        dw = ... # вычислить градиент по x и по w\n",
    "        self.w.grad += dw # аккумулируем градиент dw\n",
    "        return dx"
   ]
  },
  {
   "cell_type": "markdown",
   "metadata": {},
   "source": [
    "# Улучшаем процесс тренировки\n",
    "\n",
    "Мы реализуем несколько ключевых оптимизаций, необходимых для тренировки современных нейросетей."
   ]
  },
  {
   "cell_type": "markdown",
   "metadata": {},
   "source": [
    "## Уменьшение скорости обучения (learning rate decay)\n",
    "\n",
    "Одна из необходимых оптимизаций во время тренировки нейронных сетей - постепенное уменьшение скорости обучения по мере тренировки.\n",
    "\n",
    "Один из стандартных методов - уменьшение скорости обучения (learning rate) каждые N эпох на коэффициент d (часто называемый decay). Значения N и d, как всегда, являются гиперпараметрами и должны подбираться на основе эффективности на проверочных данных (validation data). \n",
    "\n",
    "В нашем случае N будет равным 1."
   ]
  },
  {
   "cell_type": "code",
   "execution_count": 12,
   "metadata": {},
   "outputs": [
    {
     "name": "stdout",
     "output_type": "stream",
     "text": [
      "Loss: 2.327447, Train accuracy: 0.196667, val accuracy: 0.206000\n",
      "Loss: 2.317055, Train accuracy: 0.196667, val accuracy: 0.206000\n",
      "Loss: 2.308875, Train accuracy: 0.196667, val accuracy: 0.206000\n",
      "Loss: 2.302413, Train accuracy: 0.196667, val accuracy: 0.206000\n",
      "Loss: 2.297282, Train accuracy: 0.196667, val accuracy: 0.206000\n",
      "Loss: 2.293190, Train accuracy: 0.196667, val accuracy: 0.206000\n",
      "Loss: 2.289918, Train accuracy: 0.196667, val accuracy: 0.206000\n",
      "Loss: 2.287288, Train accuracy: 0.196667, val accuracy: 0.206000\n",
      "Loss: 2.285169, Train accuracy: 0.196667, val accuracy: 0.206000\n",
      "Loss: 2.283454, Train accuracy: 0.196667, val accuracy: 0.206000\n",
      "Loss: 2.282059, Train accuracy: 0.196667, val accuracy: 0.206000\n",
      "Loss: 2.280917, Train accuracy: 0.196667, val accuracy: 0.206000\n",
      "Loss: 2.279984, Train accuracy: 0.196667, val accuracy: 0.206000\n",
      "Loss: 2.279217, Train accuracy: 0.196667, val accuracy: 0.206000\n",
      "Loss: 2.278584, Train accuracy: 0.196667, val accuracy: 0.206000\n",
      "Loss: 2.278058, Train accuracy: 0.196667, val accuracy: 0.206000\n",
      "Loss: 2.277622, Train accuracy: 0.196667, val accuracy: 0.206000\n",
      "Loss: 2.277257, Train accuracy: 0.196667, val accuracy: 0.206000\n",
      "Loss: 2.276951, Train accuracy: 0.196667, val accuracy: 0.206000\n",
      "Loss: 2.276693, Train accuracy: 0.196667, val accuracy: 0.206000\n"
     ]
    }
   ],
   "source": [
    "# TODO Implement learning rate decay inside Trainer.fit method\n",
    "# Decay should happen once per epoch\n",
    "\n",
    "model = TwoLayerNet(n_input = train_X.shape[1], n_output = 10, hidden_layer_size = 100, reg = 1e-1)\n",
    "dataset = Dataset(train_X, train_y, val_X, val_y)\n",
    "trainer = Trainer(model, dataset, SGD(), learning_rate_decay=0.99)\n",
    "\n",
    "initial_learning_rate = trainer.learning_rate\n",
    "loss_history, train_history, val_history = trainer.fit()\n",
    "\n",
    "assert trainer.learning_rate < initial_learning_rate, \"Learning rate should've been reduced\"\n",
    "assert trainer.learning_rate > 0.5*initial_learning_rate, \"Learning rate shouldn'tve been reduced that much!\""
   ]
  },
  {
   "cell_type": "markdown",
   "metadata": {},
   "source": [
    "# Накопление импульса (Momentum SGD)\n",
    "\n",
    "Другой большой класс оптимизаций - использование более эффективных методов градиентного спуска. Мы реализуем один из них - накопление импульса (Momentum SGD).\n",
    "\n",
    "Этот метод хранит скорость движения, использует градиент для ее изменения на каждом шаге, и изменяет веса пропорционально значению скорости.\n",
    "(Физическая аналогия: Вместо скорости градиенты теперь будут задавать ускорение, но будет присутствовать сила трения.)\n",
    "\n",
    "```\n",
    "velocity = momentum * velocity - learning_rate * gradient \n",
    "w = w + velocity\n",
    "```\n",
    "\n",
    "`momentum` здесь коэффициент затухания, который тоже является гиперпараметром (к счастью, для него часто есть хорошее значение по умолчанию, типичный диапазон -- 0.8-0.99).\n",
    "\n",
    "Несколько полезных ссылок, где метод разбирается более подробно:  \n",
    "http://cs231n.github.io/neural-networks-3/#sgd  \n",
    "https://distill.pub/2017/momentum/"
   ]
  },
  {
   "cell_type": "code",
   "execution_count": 13,
   "metadata": {},
   "outputs": [
    {
     "name": "stdout",
     "output_type": "stream",
     "text": [
      "Loss: 2.327797, Train accuracy: 0.196667, val accuracy: 0.206000\n",
      "Loss: 2.317322, Train accuracy: 0.196667, val accuracy: 0.206000\n",
      "Loss: 2.309072, Train accuracy: 0.196667, val accuracy: 0.206000\n",
      "Loss: 2.302554, Train accuracy: 0.196667, val accuracy: 0.206000\n",
      "Loss: 2.297383, Train accuracy: 0.196667, val accuracy: 0.206000\n",
      "Loss: 2.293268, Train accuracy: 0.196667, val accuracy: 0.206000\n",
      "Loss: 2.289971, Train accuracy: 0.196667, val accuracy: 0.206000\n",
      "Loss: 2.287328, Train accuracy: 0.196667, val accuracy: 0.206000\n",
      "Loss: 2.285198, Train accuracy: 0.196667, val accuracy: 0.206000\n",
      "Loss: 2.283473, Train accuracy: 0.196667, val accuracy: 0.206000\n",
      "Loss: 2.282073, Train accuracy: 0.196667, val accuracy: 0.206000\n",
      "Loss: 2.280930, Train accuracy: 0.196667, val accuracy: 0.206000\n",
      "Loss: 2.279995, Train accuracy: 0.196667, val accuracy: 0.206000\n",
      "Loss: 2.279228, Train accuracy: 0.196667, val accuracy: 0.206000\n",
      "Loss: 2.278595, Train accuracy: 0.196667, val accuracy: 0.206000\n",
      "Loss: 2.278068, Train accuracy: 0.196667, val accuracy: 0.206000\n",
      "Loss: 2.277631, Train accuracy: 0.196667, val accuracy: 0.206000\n",
      "Loss: 2.277267, Train accuracy: 0.196667, val accuracy: 0.206000\n",
      "Loss: 2.276960, Train accuracy: 0.196667, val accuracy: 0.206000\n",
      "Loss: 2.276704, Train accuracy: 0.196667, val accuracy: 0.206000\n"
     ]
    }
   ],
   "source": [
    "# TODO: Implement MomentumSGD.update function in optim.py\n",
    "\n",
    "model = TwoLayerNet(n_input = train_X.shape[1], n_output = 10, hidden_layer_size = 100, reg = 1e-1)\n",
    "dataset = Dataset(train_X, train_y, val_X, val_y)\n",
    "trainer = Trainer(model, dataset, MomentumSGD(), learning_rate=1e-4, learning_rate_decay=0.99)\n",
    "\n",
    "# You should see even better results than before!\n",
    "loss_history, train_history, val_history = trainer.fit()"
   ]
  },
  {
   "cell_type": "markdown",
   "metadata": {},
   "source": [
    "# Ну что, давайте уже тренировать сеть!"
   ]
  },
  {
   "cell_type": "markdown",
   "metadata": {},
   "source": [
    "## Последний тест - переобучимся (overfit) на маленьком наборе данных\n",
    "\n",
    "Хороший способ проверить, все ли реализовано корректно - переобучить сеть на маленьком наборе данных.  \n",
    "Наша модель обладает достаточной мощностью, чтобы приблизить маленький набор данных идеально, поэтому мы ожидаем, что на нем мы быстро дойдем до 100% точности на тренировочном наборе. \n",
    "\n",
    "Если этого не происходит, то где-то была допущена ошибка!"
   ]
  },
  {
   "cell_type": "code",
   "execution_count": 14,
   "metadata": {
    "scrolled": true
   },
   "outputs": [
    {
     "name": "stdout",
     "output_type": "stream",
     "text": [
      "Loss: 2.338513, Train accuracy: 0.200000, val accuracy: 0.133333\n",
      "Loss: 2.320917, Train accuracy: 0.200000, val accuracy: 0.133333\n",
      "Loss: 2.309354, Train accuracy: 0.200000, val accuracy: 0.133333\n",
      "Loss: 2.302162, Train accuracy: 0.200000, val accuracy: 0.133333\n",
      "Loss: 2.291612, Train accuracy: 0.200000, val accuracy: 0.133333\n",
      "Loss: 2.279376, Train accuracy: 0.200000, val accuracy: 0.133333\n",
      "Loss: 2.272259, Train accuracy: 0.200000, val accuracy: 0.133333\n",
      "Loss: 2.249074, Train accuracy: 0.200000, val accuracy: 0.066667\n",
      "Loss: 2.224796, Train accuracy: 0.333333, val accuracy: 0.066667\n",
      "Loss: 2.160366, Train accuracy: 0.400000, val accuracy: 0.000000\n",
      "Loss: 2.077119, Train accuracy: 0.400000, val accuracy: 0.000000\n",
      "Loss: 2.023314, Train accuracy: 0.400000, val accuracy: 0.000000\n",
      "Loss: 1.990641, Train accuracy: 0.333333, val accuracy: 0.000000\n",
      "Loss: 1.882378, Train accuracy: 0.333333, val accuracy: 0.000000\n",
      "Loss: 1.865913, Train accuracy: 0.400000, val accuracy: 0.000000\n",
      "Loss: 1.850085, Train accuracy: 0.333333, val accuracy: 0.000000\n",
      "Loss: 1.830226, Train accuracy: 0.400000, val accuracy: 0.000000\n",
      "Loss: 1.838123, Train accuracy: 0.400000, val accuracy: 0.000000\n",
      "Loss: 1.812237, Train accuracy: 0.400000, val accuracy: 0.000000\n",
      "Loss: 1.816095, Train accuracy: 0.466667, val accuracy: 0.000000\n",
      "Loss: 1.761647, Train accuracy: 0.400000, val accuracy: 0.000000\n",
      "Loss: 1.769044, Train accuracy: 0.400000, val accuracy: 0.000000\n",
      "Loss: 1.771029, Train accuracy: 0.400000, val accuracy: 0.066667\n",
      "Loss: 1.753963, Train accuracy: 0.466667, val accuracy: 0.000000\n",
      "Loss: 1.715191, Train accuracy: 0.466667, val accuracy: 0.000000\n",
      "Loss: 1.720617, Train accuracy: 0.466667, val accuracy: 0.000000\n",
      "Loss: 1.700544, Train accuracy: 0.466667, val accuracy: 0.066667\n",
      "Loss: 1.720224, Train accuracy: 0.466667, val accuracy: 0.066667\n",
      "Loss: 1.739972, Train accuracy: 0.466667, val accuracy: 0.000000\n",
      "Loss: 1.722064, Train accuracy: 0.466667, val accuracy: 0.000000\n",
      "Loss: 1.677093, Train accuracy: 0.533333, val accuracy: 0.000000\n",
      "Loss: 1.659074, Train accuracy: 0.533333, val accuracy: 0.066667\n",
      "Loss: 1.643295, Train accuracy: 0.533333, val accuracy: 0.066667\n",
      "Loss: 1.650655, Train accuracy: 0.533333, val accuracy: 0.066667\n",
      "Loss: 1.648200, Train accuracy: 0.600000, val accuracy: 0.000000\n",
      "Loss: 1.605776, Train accuracy: 0.600000, val accuracy: 0.066667\n",
      "Loss: 1.613467, Train accuracy: 0.600000, val accuracy: 0.066667\n",
      "Loss: 1.603818, Train accuracy: 0.600000, val accuracy: 0.066667\n",
      "Loss: 1.607823, Train accuracy: 0.600000, val accuracy: 0.066667\n",
      "Loss: 1.557173, Train accuracy: 0.600000, val accuracy: 0.066667\n",
      "Loss: 1.571724, Train accuracy: 0.666667, val accuracy: 0.066667\n",
      "Loss: 1.563613, Train accuracy: 0.666667, val accuracy: 0.066667\n",
      "Loss: 1.535058, Train accuracy: 0.666667, val accuracy: 0.066667\n",
      "Loss: 1.553322, Train accuracy: 0.666667, val accuracy: 0.066667\n",
      "Loss: 1.521862, Train accuracy: 0.666667, val accuracy: 0.066667\n",
      "Loss: 1.551279, Train accuracy: 0.733333, val accuracy: 0.066667\n",
      "Loss: 1.533226, Train accuracy: 0.733333, val accuracy: 0.066667\n",
      "Loss: 1.514212, Train accuracy: 0.733333, val accuracy: 0.066667\n",
      "Loss: 1.489937, Train accuracy: 0.800000, val accuracy: 0.066667\n",
      "Loss: 1.510153, Train accuracy: 0.733333, val accuracy: 0.133333\n",
      "Loss: 1.522101, Train accuracy: 0.733333, val accuracy: 0.000000\n",
      "Loss: 1.464724, Train accuracy: 0.733333, val accuracy: 0.066667\n",
      "Loss: 1.432964, Train accuracy: 0.733333, val accuracy: 0.066667\n",
      "Loss: 1.423723, Train accuracy: 0.733333, val accuracy: 0.066667\n",
      "Loss: 1.432805, Train accuracy: 0.733333, val accuracy: 0.066667\n",
      "Loss: 1.411636, Train accuracy: 0.733333, val accuracy: 0.066667\n",
      "Loss: 1.431253, Train accuracy: 0.666667, val accuracy: 0.000000\n",
      "Loss: 1.424014, Train accuracy: 0.733333, val accuracy: 0.066667\n",
      "Loss: 1.431763, Train accuracy: 0.733333, val accuracy: 0.066667\n",
      "Loss: 1.393281, Train accuracy: 0.733333, val accuracy: 0.066667\n",
      "Loss: 1.386942, Train accuracy: 0.733333, val accuracy: 0.066667\n",
      "Loss: 1.392408, Train accuracy: 0.733333, val accuracy: 0.066667\n",
      "Loss: 1.389754, Train accuracy: 0.733333, val accuracy: 0.066667\n",
      "Loss: 1.371687, Train accuracy: 0.733333, val accuracy: 0.066667\n",
      "Loss: 1.383909, Train accuracy: 0.733333, val accuracy: 0.066667\n",
      "Loss: 1.382041, Train accuracy: 0.733333, val accuracy: 0.066667\n",
      "Loss: 1.392579, Train accuracy: 0.733333, val accuracy: 0.000000\n",
      "Loss: 1.378158, Train accuracy: 0.733333, val accuracy: 0.066667\n",
      "Loss: 1.377792, Train accuracy: 0.733333, val accuracy: 0.066667\n",
      "Loss: 1.390032, Train accuracy: 0.733333, val accuracy: 0.066667\n",
      "Loss: 1.372182, Train accuracy: 0.733333, val accuracy: 0.066667\n",
      "Loss: 1.372677, Train accuracy: 0.733333, val accuracy: 0.000000\n",
      "Loss: 1.375066, Train accuracy: 0.733333, val accuracy: 0.066667\n",
      "Loss: 1.363849, Train accuracy: 0.733333, val accuracy: 0.066667\n",
      "Loss: 1.382682, Train accuracy: 0.733333, val accuracy: 0.066667\n",
      "Loss: 1.397308, Train accuracy: 0.800000, val accuracy: 0.066667\n",
      "Loss: 1.371160, Train accuracy: 0.800000, val accuracy: 0.000000\n",
      "Loss: 1.382351, Train accuracy: 0.800000, val accuracy: 0.066667\n",
      "Loss: 1.391005, Train accuracy: 0.800000, val accuracy: 0.066667\n",
      "Loss: 1.385355, Train accuracy: 0.800000, val accuracy: 0.066667\n",
      "Loss: 1.347869, Train accuracy: 0.866667, val accuracy: 0.066667\n",
      "Loss: 1.356205, Train accuracy: 0.866667, val accuracy: 0.066667\n",
      "Loss: 1.400631, Train accuracy: 0.866667, val accuracy: 0.000000\n",
      "Loss: 1.365190, Train accuracy: 0.866667, val accuracy: 0.000000\n",
      "Loss: 1.349667, Train accuracy: 0.866667, val accuracy: 0.066667\n",
      "Loss: 1.357898, Train accuracy: 0.866667, val accuracy: 0.066667\n",
      "Loss: 1.365172, Train accuracy: 0.933333, val accuracy: 0.066667\n",
      "Loss: 1.370781, Train accuracy: 0.933333, val accuracy: 0.066667\n",
      "Loss: 1.346892, Train accuracy: 0.866667, val accuracy: 0.066667\n",
      "Loss: 1.352720, Train accuracy: 0.933333, val accuracy: 0.066667\n",
      "Loss: 1.341590, Train accuracy: 0.933333, val accuracy: 0.066667\n",
      "Loss: 1.339883, Train accuracy: 0.933333, val accuracy: 0.066667\n",
      "Loss: 1.344367, Train accuracy: 0.933333, val accuracy: 0.066667\n",
      "Loss: 1.359988, Train accuracy: 0.933333, val accuracy: 0.000000\n",
      "Loss: 1.343300, Train accuracy: 0.933333, val accuracy: 0.066667\n",
      "Loss: 1.337527, Train accuracy: 0.933333, val accuracy: 0.066667\n",
      "Loss: 1.345549, Train accuracy: 0.933333, val accuracy: 0.066667\n",
      "Loss: 1.353123, Train accuracy: 0.933333, val accuracy: 0.066667\n",
      "Loss: 1.332500, Train accuracy: 0.933333, val accuracy: 0.066667\n",
      "Loss: 1.333938, Train accuracy: 0.933333, val accuracy: 0.066667\n",
      "Loss: 1.330066, Train accuracy: 0.933333, val accuracy: 0.066667\n",
      "Loss: 1.325719, Train accuracy: 0.933333, val accuracy: 0.066667\n",
      "Loss: 1.328516, Train accuracy: 0.933333, val accuracy: 0.066667\n",
      "Loss: 1.320576, Train accuracy: 0.933333, val accuracy: 0.066667\n",
      "Loss: 1.324892, Train accuracy: 0.933333, val accuracy: 0.066667\n",
      "Loss: 1.310105, Train accuracy: 0.933333, val accuracy: 0.066667\n",
      "Loss: 1.320430, Train accuracy: 0.933333, val accuracy: 0.000000\n",
      "Loss: 1.308837, Train accuracy: 0.933333, val accuracy: 0.066667\n",
      "Loss: 1.296569, Train accuracy: 0.933333, val accuracy: 0.066667\n",
      "Loss: 1.298800, Train accuracy: 0.933333, val accuracy: 0.000000\n",
      "Loss: 1.305147, Train accuracy: 1.000000, val accuracy: 0.066667\n",
      "Loss: 1.292964, Train accuracy: 0.933333, val accuracy: 0.000000\n",
      "Loss: 1.294184, Train accuracy: 1.000000, val accuracy: 0.000000\n",
      "Loss: 1.283020, Train accuracy: 0.933333, val accuracy: 0.000000\n",
      "Loss: 1.286336, Train accuracy: 0.933333, val accuracy: 0.000000\n",
      "Loss: 1.311874, Train accuracy: 1.000000, val accuracy: 0.000000\n",
      "Loss: 1.307945, Train accuracy: 0.933333, val accuracy: 0.000000\n",
      "Loss: 1.278573, Train accuracy: 1.000000, val accuracy: 0.000000\n",
      "Loss: 1.274128, Train accuracy: 1.000000, val accuracy: 0.000000\n",
      "Loss: 1.299602, Train accuracy: 1.000000, val accuracy: 0.000000\n",
      "Loss: 1.308194, Train accuracy: 0.933333, val accuracy: 0.000000\n",
      "Loss: 1.284072, Train accuracy: 1.000000, val accuracy: 0.000000\n",
      "Loss: 1.268346, Train accuracy: 1.000000, val accuracy: 0.000000\n",
      "Loss: 1.279644, Train accuracy: 1.000000, val accuracy: 0.000000\n",
      "Loss: 1.261962, Train accuracy: 1.000000, val accuracy: 0.000000\n",
      "Loss: 1.286428, Train accuracy: 1.000000, val accuracy: 0.000000\n",
      "Loss: 1.256874, Train accuracy: 1.000000, val accuracy: 0.000000\n",
      "Loss: 1.267382, Train accuracy: 1.000000, val accuracy: 0.000000\n",
      "Loss: 1.266512, Train accuracy: 1.000000, val accuracy: 0.000000\n",
      "Loss: 1.268048, Train accuracy: 1.000000, val accuracy: 0.000000\n",
      "Loss: 1.267290, Train accuracy: 1.000000, val accuracy: 0.000000\n",
      "Loss: 1.290552, Train accuracy: 1.000000, val accuracy: 0.000000\n"
     ]
    },
    {
     "name": "stdout",
     "output_type": "stream",
     "text": [
      "Loss: 1.297965, Train accuracy: 1.000000, val accuracy: 0.000000\n",
      "Loss: 1.282717, Train accuracy: 0.933333, val accuracy: 0.000000\n",
      "Loss: 1.277372, Train accuracy: 1.000000, val accuracy: 0.000000\n",
      "Loss: 1.276435, Train accuracy: 1.000000, val accuracy: 0.000000\n",
      "Loss: 1.265663, Train accuracy: 1.000000, val accuracy: 0.000000\n",
      "Loss: 1.253758, Train accuracy: 1.000000, val accuracy: 0.000000\n",
      "Loss: 1.259296, Train accuracy: 1.000000, val accuracy: 0.000000\n",
      "Loss: 1.245549, Train accuracy: 1.000000, val accuracy: 0.000000\n",
      "Loss: 1.263141, Train accuracy: 1.000000, val accuracy: 0.000000\n",
      "Loss: 1.254392, Train accuracy: 1.000000, val accuracy: 0.000000\n",
      "Loss: 1.265931, Train accuracy: 1.000000, val accuracy: 0.000000\n",
      "Loss: 1.259925, Train accuracy: 1.000000, val accuracy: 0.000000\n",
      "Loss: 1.262231, Train accuracy: 1.000000, val accuracy: 0.000000\n",
      "Loss: 1.250383, Train accuracy: 1.000000, val accuracy: 0.000000\n",
      "Loss: 1.259467, Train accuracy: 1.000000, val accuracy: 0.000000\n",
      "Loss: 1.259928, Train accuracy: 1.000000, val accuracy: 0.000000\n",
      "Loss: 1.245491, Train accuracy: 1.000000, val accuracy: 0.000000\n",
      "Loss: 1.277881, Train accuracy: 1.000000, val accuracy: 0.000000\n"
     ]
    }
   ],
   "source": [
    "data_size = 15\n",
    "model = TwoLayerNet(n_input = train_X.shape[1], n_output = 10, hidden_layer_size = 100, reg = 1e-1)\n",
    "dataset = Dataset(train_X[:data_size], train_y[:data_size], val_X[:data_size], val_y[:data_size])\n",
    "trainer = Trainer(model, dataset, SGD(), learning_rate=1e-1, num_epochs=150, batch_size=5)\n",
    "\n",
    "# You should expect this to reach 1.0 training accuracy \n",
    "loss_history, train_history, val_history = trainer.fit()"
   ]
  },
  {
   "cell_type": "markdown",
   "metadata": {},
   "source": [
    "Теперь найдем гипепараметры, для которых этот процесс сходится быстрее.\n",
    "Если все реализовано корректно, то существуют параметры, при которых процесс сходится в **20** эпох или еще быстрее.\n",
    "Найдите их!"
   ]
  },
  {
   "cell_type": "code",
   "execution_count": 15,
   "metadata": {},
   "outputs": [
    {
     "name": "stdout",
     "output_type": "stream",
     "text": [
      "Loss: 2.334327, Train accuracy: 0.200000, val accuracy: 0.133333\n",
      "Loss: 2.318011, Train accuracy: 0.200000, val accuracy: 0.133333\n",
      "Loss: 2.307733, Train accuracy: 0.200000, val accuracy: 0.133333\n",
      "Loss: 2.298739, Train accuracy: 0.266667, val accuracy: 0.000000\n",
      "Loss: 2.292331, Train accuracy: 0.266667, val accuracy: 0.000000\n",
      "Loss: 2.284000, Train accuracy: 0.266667, val accuracy: 0.000000\n",
      "Loss: 2.263576, Train accuracy: 0.266667, val accuracy: 0.000000\n",
      "Loss: 2.244180, Train accuracy: 0.400000, val accuracy: 0.000000\n",
      "Loss: 2.216952, Train accuracy: 0.400000, val accuracy: 0.000000\n",
      "Loss: 2.161041, Train accuracy: 0.400000, val accuracy: 0.000000\n",
      "Loss: 2.071979, Train accuracy: 0.400000, val accuracy: 0.000000\n",
      "Loss: 1.968128, Train accuracy: 0.400000, val accuracy: 0.000000\n",
      "Loss: 1.895453, Train accuracy: 0.333333, val accuracy: 0.000000\n",
      "Loss: 1.892852, Train accuracy: 0.333333, val accuracy: 0.000000\n",
      "Loss: 1.902205, Train accuracy: 0.333333, val accuracy: 0.000000\n",
      "Loss: 1.869949, Train accuracy: 0.333333, val accuracy: 0.000000\n",
      "Loss: 1.840630, Train accuracy: 0.400000, val accuracy: 0.000000\n",
      "Loss: 1.809441, Train accuracy: 0.400000, val accuracy: 0.000000\n",
      "Loss: 1.812950, Train accuracy: 0.400000, val accuracy: 0.000000\n",
      "Loss: 1.816037, Train accuracy: 0.400000, val accuracy: 0.000000\n"
     ]
    }
   ],
   "source": [
    "# Now, tweak some hyper parameters and make it train to 1.0 accuracy in 20 epochs or less\n",
    "\n",
    "model = TwoLayerNet(n_input = train_X.shape[1], n_output = 10, hidden_layer_size = 100, reg = 1e-1)\n",
    "dataset = Dataset(train_X[:data_size], train_y[:data_size], val_X[:data_size], val_y[:data_size])\n",
    "# TODO: Change any hyperparamers or optimizators to reach training accuracy in 20 epochs\n",
    "trainer = Trainer(model, dataset, SGD(), learning_rate=1e-1, num_epochs=20, batch_size=5)\n",
    "\n",
    "loss_history, train_history, val_history = trainer.fit()"
   ]
  },
  {
   "cell_type": "code",
   "execution_count": 16,
   "metadata": {},
   "outputs": [
    {
     "name": "stdout",
     "output_type": "stream",
     "text": [
      "Loss: 2.318376, Train accuracy: 0.200000, val accuracy: 0.133333\n",
      "Loss: 2.302280, Train accuracy: 0.200000, val accuracy: 0.133333\n",
      "Loss: 2.275931, Train accuracy: 0.200000, val accuracy: 0.066667\n",
      "Loss: 2.244771, Train accuracy: 0.266667, val accuracy: 0.000000\n",
      "Loss: 2.205394, Train accuracy: 0.266667, val accuracy: 0.000000\n",
      "Loss: 2.121494, Train accuracy: 0.400000, val accuracy: 0.000000\n",
      "Loss: 1.943060, Train accuracy: 0.400000, val accuracy: 0.000000\n",
      "Loss: 1.803730, Train accuracy: 0.333333, val accuracy: 0.066667\n",
      "Loss: 1.895753, Train accuracy: 0.533333, val accuracy: 0.133333\n",
      "Loss: 1.780033, Train accuracy: 0.466667, val accuracy: 0.133333\n",
      "Loss: 1.692183, Train accuracy: 0.600000, val accuracy: 0.000000\n",
      "Loss: 1.633246, Train accuracy: 0.600000, val accuracy: 0.000000\n",
      "Loss: 1.525975, Train accuracy: 0.733333, val accuracy: 0.066667\n",
      "Loss: 1.377188, Train accuracy: 0.733333, val accuracy: 0.066667\n",
      "Loss: 1.339075, Train accuracy: 0.866667, val accuracy: 0.066667\n",
      "Loss: 1.268941, Train accuracy: 0.933333, val accuracy: 0.000000\n",
      "Loss: 1.245105, Train accuracy: 0.933333, val accuracy: 0.000000\n",
      "Loss: 1.221194, Train accuracy: 0.933333, val accuracy: 0.000000\n",
      "Loss: 1.169602, Train accuracy: 1.000000, val accuracy: 0.000000\n",
      "Loss: 1.096079, Train accuracy: 1.000000, val accuracy: 0.000000\n"
     ]
    }
   ],
   "source": [
    "# Now, tweak some hyper parameters and make it train to 1.0 accuracy in 20 epochs or less\n",
    "\n",
    "model = TwoLayerNet(n_input = train_X.shape[1], n_output = 10, hidden_layer_size = 100, reg = 0.5*1e-1)\n",
    "dataset = Dataset(train_X[:data_size], train_y[:data_size], val_X[:data_size], val_y[:data_size])\n",
    "# TODO: Change any hyperparamers or optimizators to reach training accuracy in 20 epochs\n",
    "trainer = Trainer(model, dataset, MomentumSGD(momentum=0.3), learning_rate=4e-1, num_epochs=20, batch_size=100)\n",
    "\n",
    "loss_history, train_history, val_history = trainer.fit()"
   ]
  },
  {
   "cell_type": "markdown",
   "metadata": {},
   "source": [
    "# Итак, основное мероприятие!\n",
    "\n",
    "Натренируйте лучшую нейросеть! Можно добавлять и изменять параметры, менять количество нейронов в слоях сети и как угодно экспериментировать. \n",
    "\n",
    "Добейтесь точности лучше **40%** на validation set."
   ]
  },
  {
   "cell_type": "code",
   "execution_count": 17,
   "metadata": {
    "scrolled": true
   },
   "outputs": [
    {
     "name": "stdout",
     "output_type": "stream",
     "text": [
      "Loss: 2.333308, Train accuracy: 0.066667, val accuracy: 0.066667\n",
      "Loss: 2.333303, Train accuracy: 0.066667, val accuracy: 0.066667\n",
      "Loss: 2.333293, Train accuracy: 0.066667, val accuracy: 0.066667\n",
      "Loss: 2.333280, Train accuracy: 0.066667, val accuracy: 0.066667\n",
      "Loss: 2.333262, Train accuracy: 0.066667, val accuracy: 0.066667\n",
      "Loss: 2.333241, Train accuracy: 0.066667, val accuracy: 0.066667\n",
      "Loss: 2.333217, Train accuracy: 0.066667, val accuracy: 0.066667\n",
      "Loss: 2.333191, Train accuracy: 0.066667, val accuracy: 0.066667\n",
      "Loss: 2.333162, Train accuracy: 0.066667, val accuracy: 0.066667\n",
      "Loss: 2.333131, Train accuracy: 0.066667, val accuracy: 0.066667\n",
      "Loss: 2.333098, Train accuracy: 0.066667, val accuracy: 0.066667\n",
      "Loss: 2.333063, Train accuracy: 0.066667, val accuracy: 0.066667\n",
      "Loss: 2.333027, Train accuracy: 0.066667, val accuracy: 0.066667\n",
      "Loss: 2.332989, Train accuracy: 0.066667, val accuracy: 0.066667\n",
      "Loss: 2.332950, Train accuracy: 0.066667, val accuracy: 0.066667\n",
      "Loss: 2.332910, Train accuracy: 0.066667, val accuracy: 0.066667\n",
      "Loss: 2.332869, Train accuracy: 0.066667, val accuracy: 0.066667\n",
      "Loss: 2.332828, Train accuracy: 0.066667, val accuracy: 0.066667\n",
      "Loss: 2.332785, Train accuracy: 0.066667, val accuracy: 0.066667\n",
      "Loss: 2.332741, Train accuracy: 0.066667, val accuracy: 0.133333\n",
      "Loss: 2.332697, Train accuracy: 0.200000, val accuracy: 0.200000\n",
      "Loss: 2.332653, Train accuracy: 0.200000, val accuracy: 0.133333\n",
      "Loss: 2.332608, Train accuracy: 0.200000, val accuracy: 0.133333\n",
      "Loss: 2.332562, Train accuracy: 0.200000, val accuracy: 0.133333\n",
      "Loss: 2.332517, Train accuracy: 0.200000, val accuracy: 0.133333\n",
      "Loss: 2.332470, Train accuracy: 0.200000, val accuracy: 0.133333\n",
      "Loss: 2.332424, Train accuracy: 0.200000, val accuracy: 0.133333\n",
      "Loss: 2.332377, Train accuracy: 0.200000, val accuracy: 0.133333\n",
      "Loss: 2.332330, Train accuracy: 0.200000, val accuracy: 0.133333\n",
      "Loss: 2.332283, Train accuracy: 0.200000, val accuracy: 0.133333\n",
      "Loss: 2.332236, Train accuracy: 0.200000, val accuracy: 0.133333\n",
      "Loss: 2.332188, Train accuracy: 0.200000, val accuracy: 0.133333\n",
      "Loss: 2.332141, Train accuracy: 0.200000, val accuracy: 0.133333\n",
      "Loss: 2.332093, Train accuracy: 0.200000, val accuracy: 0.133333\n",
      "Loss: 2.332045, Train accuracy: 0.200000, val accuracy: 0.133333\n",
      "Loss: 2.331997, Train accuracy: 0.200000, val accuracy: 0.133333\n",
      "Loss: 2.331949, Train accuracy: 0.200000, val accuracy: 0.133333\n",
      "Loss: 2.331901, Train accuracy: 0.200000, val accuracy: 0.133333\n",
      "Loss: 2.331853, Train accuracy: 0.200000, val accuracy: 0.133333\n",
      "Loss: 2.331805, Train accuracy: 0.200000, val accuracy: 0.133333\n",
      "Loss: 2.331757, Train accuracy: 0.200000, val accuracy: 0.133333\n",
      "Loss: 2.331709, Train accuracy: 0.200000, val accuracy: 0.133333\n",
      "Loss: 2.331661, Train accuracy: 0.200000, val accuracy: 0.133333\n",
      "Loss: 2.331613, Train accuracy: 0.200000, val accuracy: 0.133333\n",
      "Loss: 2.331565, Train accuracy: 0.200000, val accuracy: 0.133333\n",
      "Loss: 2.331517, Train accuracy: 0.200000, val accuracy: 0.133333\n",
      "Loss: 2.331470, Train accuracy: 0.200000, val accuracy: 0.133333\n",
      "Loss: 2.331422, Train accuracy: 0.200000, val accuracy: 0.133333\n",
      "Loss: 2.331374, Train accuracy: 0.200000, val accuracy: 0.133333\n",
      "Loss: 2.331326, Train accuracy: 0.200000, val accuracy: 0.133333\n",
      "Loss: 2.331278, Train accuracy: 0.200000, val accuracy: 0.133333\n",
      "Loss: 2.331231, Train accuracy: 0.200000, val accuracy: 0.133333\n",
      "Loss: 2.331183, Train accuracy: 0.200000, val accuracy: 0.133333\n",
      "Loss: 2.331135, Train accuracy: 0.200000, val accuracy: 0.133333\n",
      "Loss: 2.331088, Train accuracy: 0.200000, val accuracy: 0.133333\n",
      "Loss: 2.331040, Train accuracy: 0.200000, val accuracy: 0.133333\n",
      "Loss: 2.330993, Train accuracy: 0.200000, val accuracy: 0.133333\n",
      "Loss: 2.330945, Train accuracy: 0.200000, val accuracy: 0.133333\n",
      "Loss: 2.330898, Train accuracy: 0.200000, val accuracy: 0.133333\n",
      "Loss: 2.330851, Train accuracy: 0.200000, val accuracy: 0.133333\n",
      "Loss: 2.330804, Train accuracy: 0.200000, val accuracy: 0.133333\n",
      "Loss: 2.330757, Train accuracy: 0.200000, val accuracy: 0.133333\n",
      "Loss: 2.330709, Train accuracy: 0.200000, val accuracy: 0.133333\n",
      "Loss: 2.330662, Train accuracy: 0.200000, val accuracy: 0.133333\n",
      "Loss: 2.330616, Train accuracy: 0.200000, val accuracy: 0.133333\n",
      "Loss: 2.330569, Train accuracy: 0.200000, val accuracy: 0.133333\n",
      "Loss: 2.330522, Train accuracy: 0.200000, val accuracy: 0.133333\n",
      "Loss: 2.330475, Train accuracy: 0.200000, val accuracy: 0.133333\n",
      "Loss: 2.330428, Train accuracy: 0.200000, val accuracy: 0.133333\n",
      "Loss: 2.330382, Train accuracy: 0.200000, val accuracy: 0.133333\n",
      "Loss: 2.330335, Train accuracy: 0.200000, val accuracy: 0.133333\n",
      "Loss: 2.330289, Train accuracy: 0.200000, val accuracy: 0.133333\n",
      "Loss: 2.330242, Train accuracy: 0.200000, val accuracy: 0.133333\n",
      "Loss: 2.330196, Train accuracy: 0.200000, val accuracy: 0.133333\n",
      "Loss: 2.330150, Train accuracy: 0.200000, val accuracy: 0.133333\n",
      "Loss: 2.330104, Train accuracy: 0.200000, val accuracy: 0.133333\n",
      "Loss: 2.330058, Train accuracy: 0.200000, val accuracy: 0.133333\n",
      "Loss: 2.330011, Train accuracy: 0.200000, val accuracy: 0.133333\n",
      "Loss: 2.329965, Train accuracy: 0.200000, val accuracy: 0.133333\n",
      "Loss: 2.329920, Train accuracy: 0.200000, val accuracy: 0.133333\n",
      "Loss: 2.329874, Train accuracy: 0.200000, val accuracy: 0.133333\n",
      "Loss: 2.329828, Train accuracy: 0.200000, val accuracy: 0.133333\n",
      "Loss: 2.329782, Train accuracy: 0.200000, val accuracy: 0.133333\n",
      "Loss: 2.329737, Train accuracy: 0.200000, val accuracy: 0.133333\n",
      "Loss: 2.329691, Train accuracy: 0.200000, val accuracy: 0.133333\n",
      "Loss: 2.329645, Train accuracy: 0.200000, val accuracy: 0.133333\n",
      "Loss: 2.329600, Train accuracy: 0.200000, val accuracy: 0.133333\n",
      "Loss: 2.329555, Train accuracy: 0.200000, val accuracy: 0.133333\n",
      "Loss: 2.329509, Train accuracy: 0.200000, val accuracy: 0.133333\n",
      "Loss: 2.329464, Train accuracy: 0.200000, val accuracy: 0.133333\n",
      "Loss: 2.329419, Train accuracy: 0.200000, val accuracy: 0.133333\n",
      "Loss: 2.329374, Train accuracy: 0.200000, val accuracy: 0.133333\n",
      "Loss: 2.329329, Train accuracy: 0.200000, val accuracy: 0.133333\n",
      "Loss: 2.329284, Train accuracy: 0.200000, val accuracy: 0.133333\n",
      "Loss: 2.329239, Train accuracy: 0.200000, val accuracy: 0.133333\n",
      "Loss: 2.329194, Train accuracy: 0.200000, val accuracy: 0.133333\n",
      "Loss: 2.329149, Train accuracy: 0.200000, val accuracy: 0.133333\n",
      "Loss: 2.329105, Train accuracy: 0.200000, val accuracy: 0.133333\n",
      "Loss: 2.329060, Train accuracy: 0.200000, val accuracy: 0.133333\n",
      "Loss: 2.329015, Train accuracy: 0.200000, val accuracy: 0.133333\n",
      "Loss: 2.328971, Train accuracy: 0.200000, val accuracy: 0.133333\n",
      "Loss: 2.328926, Train accuracy: 0.200000, val accuracy: 0.133333\n",
      "Loss: 2.328882, Train accuracy: 0.200000, val accuracy: 0.133333\n",
      "Loss: 2.328838, Train accuracy: 0.200000, val accuracy: 0.133333\n",
      "Loss: 2.328794, Train accuracy: 0.200000, val accuracy: 0.133333\n",
      "Loss: 2.328749, Train accuracy: 0.200000, val accuracy: 0.133333\n",
      "Loss: 2.328705, Train accuracy: 0.200000, val accuracy: 0.133333\n",
      "Loss: 2.328661, Train accuracy: 0.200000, val accuracy: 0.133333\n",
      "Loss: 2.328617, Train accuracy: 0.200000, val accuracy: 0.133333\n",
      "Loss: 2.328573, Train accuracy: 0.200000, val accuracy: 0.133333\n",
      "Loss: 2.328530, Train accuracy: 0.200000, val accuracy: 0.133333\n",
      "Loss: 2.328486, Train accuracy: 0.200000, val accuracy: 0.133333\n",
      "Loss: 2.328442, Train accuracy: 0.200000, val accuracy: 0.133333\n",
      "Loss: 2.328399, Train accuracy: 0.200000, val accuracy: 0.133333\n",
      "Loss: 2.328355, Train accuracy: 0.200000, val accuracy: 0.133333\n",
      "Loss: 2.328311, Train accuracy: 0.200000, val accuracy: 0.133333\n",
      "Loss: 2.328268, Train accuracy: 0.200000, val accuracy: 0.133333\n",
      "Loss: 2.328225, Train accuracy: 0.200000, val accuracy: 0.133333\n",
      "Loss: 2.328181, Train accuracy: 0.200000, val accuracy: 0.133333\n",
      "Loss: 2.328138, Train accuracy: 0.200000, val accuracy: 0.133333\n",
      "Loss: 2.328095, Train accuracy: 0.200000, val accuracy: 0.133333\n",
      "Loss: 2.328052, Train accuracy: 0.200000, val accuracy: 0.133333\n",
      "Loss: 2.328009, Train accuracy: 0.200000, val accuracy: 0.133333\n",
      "Loss: 2.327966, Train accuracy: 0.200000, val accuracy: 0.133333\n",
      "Loss: 2.327923, Train accuracy: 0.200000, val accuracy: 0.133333\n",
      "Loss: 2.327880, Train accuracy: 0.200000, val accuracy: 0.133333\n",
      "Loss: 2.327837, Train accuracy: 0.200000, val accuracy: 0.133333\n",
      "Loss: 2.327795, Train accuracy: 0.200000, val accuracy: 0.133333\n",
      "Loss: 2.327752, Train accuracy: 0.200000, val accuracy: 0.133333\n",
      "Loss: 2.327709, Train accuracy: 0.200000, val accuracy: 0.133333\n",
      "Loss: 2.327667, Train accuracy: 0.200000, val accuracy: 0.133333\n",
      "Loss: 2.327624, Train accuracy: 0.200000, val accuracy: 0.133333\n",
      "Loss: 2.327582, Train accuracy: 0.200000, val accuracy: 0.133333\n",
      "Loss: 2.327539, Train accuracy: 0.200000, val accuracy: 0.133333\n"
     ]
    },
    {
     "name": "stdout",
     "output_type": "stream",
     "text": [
      "Loss: 2.327497, Train accuracy: 0.200000, val accuracy: 0.133333\n",
      "Loss: 2.327455, Train accuracy: 0.200000, val accuracy: 0.133333\n",
      "Loss: 2.327413, Train accuracy: 0.200000, val accuracy: 0.133333\n",
      "Loss: 2.327371, Train accuracy: 0.200000, val accuracy: 0.133333\n",
      "Loss: 2.327329, Train accuracy: 0.200000, val accuracy: 0.133333\n",
      "Loss: 2.327287, Train accuracy: 0.200000, val accuracy: 0.133333\n",
      "Loss: 2.327245, Train accuracy: 0.200000, val accuracy: 0.133333\n",
      "Loss: 2.327203, Train accuracy: 0.200000, val accuracy: 0.133333\n",
      "Loss: 2.327161, Train accuracy: 0.200000, val accuracy: 0.133333\n",
      "Loss: 2.327119, Train accuracy: 0.200000, val accuracy: 0.133333\n",
      "Loss: 2.327078, Train accuracy: 0.200000, val accuracy: 0.133333\n",
      "Loss: 2.327036, Train accuracy: 0.200000, val accuracy: 0.133333\n",
      "Loss: 2.326995, Train accuracy: 0.200000, val accuracy: 0.133333\n",
      "Loss: 2.326953, Train accuracy: 0.200000, val accuracy: 0.133333\n",
      "Loss: 2.326912, Train accuracy: 0.200000, val accuracy: 0.133333\n",
      "Loss: 2.326870, Train accuracy: 0.200000, val accuracy: 0.133333\n",
      "Loss: 2.326829, Train accuracy: 0.200000, val accuracy: 0.133333\n",
      "Loss: 2.326788, Train accuracy: 0.200000, val accuracy: 0.133333\n",
      "Loss: 2.326747, Train accuracy: 0.200000, val accuracy: 0.133333\n",
      "Loss: 2.326706, Train accuracy: 0.200000, val accuracy: 0.133333\n",
      "Loss: 2.326665, Train accuracy: 0.200000, val accuracy: 0.133333\n",
      "Loss: 2.326624, Train accuracy: 0.200000, val accuracy: 0.133333\n",
      "Loss: 2.326583, Train accuracy: 0.200000, val accuracy: 0.133333\n",
      "Loss: 2.326542, Train accuracy: 0.200000, val accuracy: 0.133333\n",
      "Loss: 2.326501, Train accuracy: 0.200000, val accuracy: 0.133333\n",
      "Loss: 2.326460, Train accuracy: 0.200000, val accuracy: 0.133333\n",
      "Loss: 2.326420, Train accuracy: 0.200000, val accuracy: 0.133333\n",
      "Loss: 2.326379, Train accuracy: 0.200000, val accuracy: 0.133333\n",
      "Loss: 2.326338, Train accuracy: 0.200000, val accuracy: 0.133333\n",
      "Loss: 2.326298, Train accuracy: 0.200000, val accuracy: 0.133333\n",
      "Loss: 2.326257, Train accuracy: 0.200000, val accuracy: 0.133333\n",
      "Loss: 2.326217, Train accuracy: 0.200000, val accuracy: 0.133333\n",
      "Loss: 2.326177, Train accuracy: 0.200000, val accuracy: 0.133333\n",
      "Loss: 2.326136, Train accuracy: 0.200000, val accuracy: 0.133333\n",
      "Loss: 2.326096, Train accuracy: 0.200000, val accuracy: 0.133333\n",
      "Loss: 2.326056, Train accuracy: 0.200000, val accuracy: 0.133333\n",
      "Loss: 2.326016, Train accuracy: 0.200000, val accuracy: 0.133333\n",
      "Loss: 2.325976, Train accuracy: 0.200000, val accuracy: 0.133333\n",
      "Loss: 2.325936, Train accuracy: 0.200000, val accuracy: 0.133333\n",
      "Loss: 2.325896, Train accuracy: 0.200000, val accuracy: 0.133333\n",
      "Loss: 2.325856, Train accuracy: 0.200000, val accuracy: 0.133333\n",
      "Loss: 2.325816, Train accuracy: 0.200000, val accuracy: 0.133333\n",
      "Loss: 2.325777, Train accuracy: 0.200000, val accuracy: 0.133333\n",
      "Loss: 2.325737, Train accuracy: 0.200000, val accuracy: 0.133333\n",
      "Loss: 2.325697, Train accuracy: 0.200000, val accuracy: 0.133333\n",
      "Loss: 2.325658, Train accuracy: 0.200000, val accuracy: 0.133333\n",
      "Loss: 2.325618, Train accuracy: 0.200000, val accuracy: 0.133333\n",
      "Loss: 2.325579, Train accuracy: 0.200000, val accuracy: 0.133333\n",
      "Loss: 2.325539, Train accuracy: 0.200000, val accuracy: 0.133333\n",
      "Loss: 2.325500, Train accuracy: 0.200000, val accuracy: 0.133333\n",
      "Loss: 2.325461, Train accuracy: 0.200000, val accuracy: 0.133333\n",
      "Loss: 2.325421, Train accuracy: 0.200000, val accuracy: 0.133333\n",
      "Loss: 2.325382, Train accuracy: 0.200000, val accuracy: 0.133333\n",
      "Loss: 2.325343, Train accuracy: 0.200000, val accuracy: 0.133333\n",
      "Loss: 2.325304, Train accuracy: 0.200000, val accuracy: 0.133333\n",
      "Loss: 2.325265, Train accuracy: 0.200000, val accuracy: 0.133333\n",
      "Loss: 2.325226, Train accuracy: 0.200000, val accuracy: 0.133333\n",
      "Loss: 2.325187, Train accuracy: 0.200000, val accuracy: 0.133333\n",
      "Loss: 2.325148, Train accuracy: 0.200000, val accuracy: 0.133333\n",
      "Loss: 2.325110, Train accuracy: 0.200000, val accuracy: 0.133333\n",
      "Loss: 2.325071, Train accuracy: 0.200000, val accuracy: 0.133333\n",
      "Loss: 2.325032, Train accuracy: 0.200000, val accuracy: 0.133333\n",
      "Loss: 2.324994, Train accuracy: 0.200000, val accuracy: 0.133333\n",
      "Loss: 2.324955, Train accuracy: 0.200000, val accuracy: 0.133333\n",
      "Loss: 2.324917, Train accuracy: 0.200000, val accuracy: 0.133333\n",
      "Loss: 2.324878, Train accuracy: 0.200000, val accuracy: 0.133333\n",
      "best validation accuracy achieved: 0.200000\n"
     ]
    }
   ],
   "source": [
    "# Let's train the best one-hidden-layer network we can\n",
    "\n",
    "learning_rate = 1e-4\n",
    "reg_strength = 1e-3\n",
    "learning_rate_decay = 0.999\n",
    "hidden_layer_size = 128\n",
    "num_epochs = 200\n",
    "batch_size = 64\n",
    "\n",
    "best_classifier = None\n",
    "best_val_accuracy = None\n",
    "\n",
    "loss_history = []\n",
    "train_history = []\n",
    "val_history = []\n",
    "\n",
    "# TODO find the best hyperparameters to train the network\n",
    "# Don't hesitate to add new values to the arrays above, perform experiments, use any tricks you want\n",
    "# You should expect to get to at least 40% of valudation accuracy\n",
    "# Save loss/train/history of the best classifier to the variables above\n",
    "\n",
    "model = TwoLayerNet(n_input = train_X.shape[1], n_output = 10, hidden_layer_size = 100, reg = 1e-1)\n",
    "dataset = Dataset(train_X[:data_size], train_y[:data_size], val_X[:data_size], val_y[:data_size])\n",
    "# TODO: Change any hyperparamers or optimizators to reach training accuracy in 20 epochs\n",
    "trainer = Trainer(model, dataset, MomentumSGD(momentum=0.2), num_epochs, batch_size, learning_rate, learning_rate_decay)\n",
    "\n",
    "loss_history, train_history, val_history = trainer.fit()\n",
    "\n",
    "best_val_accuracy = np.max(val_history)  # FIXME\n",
    "\n",
    "print('best validation accuracy achieved: %f' % best_val_accuracy)"
   ]
  },
  {
   "cell_type": "code",
   "execution_count": 18,
   "metadata": {},
   "outputs": [
    {
     "data": {
      "text/plain": [
       "[<matplotlib.lines.Line2D at 0x179020d3dd8>]"
      ]
     },
     "execution_count": 18,
     "metadata": {},
     "output_type": "execute_result"
    },
    {
     "data": {
      "image/png": "[encoded data removed]",
      "text/plain": [
       "<Figure size 1080x504 with 2 Axes>"
      ]
     },
     "metadata": {
      "needs_background": "light"
     },
     "output_type": "display_data"
    }
   ],
   "source": [
    "plt.figure(figsize=(15, 7))\n",
    "plt.subplot(211)\n",
    "plt.title(\"Loss\")\n",
    "plt.plot(loss_history)\n",
    "plt.subplot(212)\n",
    "plt.title(\"Train/validation accuracy\")\n",
    "plt.plot(train_history)\n",
    "plt.plot(val_history)"
   ]
  },
  {
   "cell_type": "markdown",
   "metadata": {},
   "source": [
    "# Как обычно, посмотрим, как наша лучшая модель работает на тестовых данных"
   ]
  },
  {
   "cell_type": "code",
   "execution_count": 19,
   "metadata": {},
   "outputs": [
    {
     "ename": "AttributeError",
     "evalue": "'NoneType' object has no attribute 'predict'",
     "traceback": [
      "\u001b[1;31m---------------------------------------------------------------------------\u001b[0m",
      "\u001b[1;31mAttributeError\u001b[0m                            Traceback (most recent call last)",
      "\u001b[1;32m<ipython-input-19-83c278478367>\u001b[0m in \u001b[0;36m<module>\u001b[1;34m\u001b[0m\n\u001b[1;32m----> 1\u001b[1;33m \u001b[0mtest_pred\u001b[0m \u001b[1;33m=\u001b[0m \u001b[0mbest_classifier\u001b[0m\u001b[1;33m.\u001b[0m\u001b[0mpredict\u001b[0m\u001b[1;33m(\u001b[0m\u001b[0mtest_X\u001b[0m\u001b[1;33m)\u001b[0m\u001b[1;33m\u001b[0m\u001b[1;33m\u001b[0m\u001b[0m\n\u001b[0m\u001b[0;32m      2\u001b[0m \u001b[0mtest_accuracy\u001b[0m \u001b[1;33m=\u001b[0m \u001b[0mmulticlass_accuracy\u001b[0m\u001b[1;33m(\u001b[0m\u001b[0mtest_pred\u001b[0m\u001b[1;33m,\u001b[0m \u001b[0mtest_y\u001b[0m\u001b[1;33m)\u001b[0m\u001b[1;33m\u001b[0m\u001b[1;33m\u001b[0m\u001b[0m\n\u001b[0;32m      3\u001b[0m \u001b[0mprint\u001b[0m\u001b[1;33m(\u001b[0m\u001b[1;34m'Neural net test set accuracy: %f'\u001b[0m \u001b[1;33m%\u001b[0m \u001b[1;33m(\u001b[0m\u001b[0mtest_accuracy\u001b[0m\u001b[1;33m,\u001b[0m \u001b[1;33m)\u001b[0m\u001b[1;33m)\u001b[0m\u001b[1;33m\u001b[0m\u001b[1;33m\u001b[0m\u001b[0m\n",
      "\u001b[1;31mAttributeError\u001b[0m: 'NoneType' object has no attribute 'predict'"
     ],
     "output_type": "error"
    }
   ],
   "source": [
    "test_pred = best_classifier.predict(test_X)\n",
    "test_accuracy = multiclass_accuracy(test_pred, test_y)\n",
    "print('Neural net test set accuracy: %f' % (test_accuracy, ))"
   ]
  },
  {
   "cell_type": "code",
   "execution_count": null,
   "metadata": {},
   "outputs": [],
   "source": []
  }
 ],
 "metadata": {
  "kernelspec": {
   "display_name": "Python 3",
   "language": "python",
   "name": "python3"
  },
  "language_info": {
   "codemirror_mode": {
    "name": "ipython",
    "version": 3
   },
   "file_extension": ".py",
   "mimetype": "text/x-python",
   "name": "python",
   "nbconvert_exporter": "python",
   "pygments_lexer": "ipython3",
   "version": "3.7.2"
  }
 },
 "nbformat": 4,
 "nbformat_minor": 2
}
