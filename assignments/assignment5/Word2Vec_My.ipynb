{
 "cells": [
  {
   "cell_type": "markdown",
   "metadata": {},
   "source": [
    "# Задание 5.1 - Word2Vec\n",
    "\n",
    "В этом задании мы натренируем свои word vectors на очень небольшом датасете.\n",
    "Мы будем использовать самую простую версию word2vec, без negative sampling и других оптимизаций.\n",
    "\n",
    "Перед запуском нужно запустить скрипт `download_data.sh` чтобы скачать данные.\n",
    "\n",
    "Датасет и модель очень небольшие, поэтому это задание можно выполнить и без GPU."
   ]
  },
  {
   "cell_type": "code",
   "execution_count": 1,
   "metadata": {},
   "outputs": [],
   "source": [
    "import torch\n",
    "import torch.nn as nn\n",
    "import torch.optim as optim\n",
    "from torch.utils.data import Dataset\n",
    "\n",
    "from torchvision import transforms\n",
    "\n",
    "import numpy as np\n",
    "import matplotlib.pyplot as plt\n",
    "\n",
    "# We'll use Principal Component Analysis (PCA) to visualize word vectors,\n",
    "# so make sure you install dependencies from requirements.txt!\n",
    "from sklearn.decomposition import PCA \n",
    "\n",
    "%matplotlib inline"
   ]
  },
  {
   "cell_type": "code",
   "execution_count": 87,
   "metadata": {},
   "outputs": [],
   "source": [
    "from tqdm import tqdm_notebook\n",
    "from itertools import product"
   ]
  },
  {
   "cell_type": "code",
   "execution_count": 3,
   "metadata": {
    "scrolled": false
   },
   "outputs": [
    {
     "name": "stdout",
     "output_type": "stream",
     "text": [
      "Num tokens: 19538\n",
      "opportunities ['being', 'chuckles', 'theater']\n",
      "hammers ['period-perfect', 'heavy-handed', 'moralistic']\n",
      "astonishing ['33-year-old', 'first-time', 'considering', 'inexperience']\n",
      "peralta ['mythmaking', 'informed']\n",
      "king ['lion', 'roaring', 'released']\n"
     ]
    }
   ],
   "source": [
    "import os\n",
    "import numpy as np\n",
    "\n",
    "class StanfordTreeBank:\n",
    "    '''\n",
    "    Wrapper for accessing Stanford Tree Bank Dataset\n",
    "    https://nlp.stanford.edu/sentiment/treebank.html\n",
    "    \n",
    "    Parses dataset, gives each token and index and provides lookups\n",
    "    from string token to index and back\n",
    "    \n",
    "    Allows to generate random context with sampling strategy described in\n",
    "    word2vec paper:\n",
    "    https://papers.nips.cc/paper/5021-distributed-representations-of-words-and-phrases-and-their-compositionality.pdf\n",
    "    '''\n",
    "    def __init__(self):\n",
    "        self.index_by_token = {}\n",
    "        self.token_by_index = []\n",
    "\n",
    "        self.sentences = []\n",
    "\n",
    "        self.token_freq = {}\n",
    "        \n",
    "        self.token_reject_by_index = None\n",
    "\n",
    "    def load_dataset(self, folder):\n",
    "        filename = os.path.join(folder, \"datasetSentences.txt\")\n",
    "\n",
    "        with open(filename, \"r\", encoding=\"latin1\") as f:\n",
    "            l = f.readline() # skip the first line\n",
    "            \n",
    "            for l in f:\n",
    "                splitted_line = l.strip().split()\n",
    "                words = [w.lower() for w in splitted_line[1:]] # First one is a number\n",
    "                    \n",
    "                self.sentences.append(words)\n",
    "                for word in words:\n",
    "                    if word in self.token_freq:\n",
    "                        self.token_freq[word] +=1 \n",
    "                    else:\n",
    "                        index = len(self.token_by_index)\n",
    "                        self.token_freq[word] = 1\n",
    "                        self.index_by_token[word] = index\n",
    "                        self.token_by_index.append(word)\n",
    "        self.compute_token_prob()\n",
    "                        \n",
    "    def compute_token_prob(self):\n",
    "        words_count = np.array([self.token_freq[token] for token in self.token_by_index])\n",
    "        words_freq = words_count / np.sum(words_count)\n",
    "        \n",
    "        # Following sampling strategy from word2vec paper:\n",
    "        # https://papers.nips.cc/paper/5021-distributed-representations-of-words-and-phrases-and-their-compositionality.pdf\n",
    "        self.token_reject_by_index = 1- np.sqrt(1e-5/words_freq)\n",
    "    \n",
    "    def check_reject(self, word):\n",
    "        return np.random.rand() > self.token_reject_by_index[self.index_by_token[word]]\n",
    "        \n",
    "    def get_random_context(self, context_length=5):\n",
    "        \"\"\"\n",
    "        Returns tuple of center word and list of context words\n",
    "        \"\"\"\n",
    "        sentence_sampled = []\n",
    "        while len(sentence_sampled) <= 2:\n",
    "            sentence_index = np.random.randint(len(self.sentences)) \n",
    "            sentence = self.sentences[sentence_index]\n",
    "            sentence_sampled = [word for word in sentence if self.check_reject(word)]\n",
    "    \n",
    "        center_word_index = np.random.randint(len(sentence_sampled))\n",
    "        \n",
    "        words_before = sentence_sampled[max(center_word_index - context_length//2,0):center_word_index]\n",
    "        words_after = sentence_sampled[center_word_index+1: center_word_index+1+context_length//2]\n",
    "        \n",
    "        return sentence_sampled[center_word_index], words_before+words_after\n",
    "    \n",
    "    def num_tokens(self):\n",
    "        return len(self.token_by_index)\n",
    "        \n",
    "data = StanfordTreeBank()\n",
    "data.load_dataset(\"./stanfordSentimentTreebank/\")\n",
    "\n",
    "print(\"Num tokens:\", data.num_tokens())\n",
    "for i in range(5):\n",
    "    center_word, other_words = data.get_random_context(5)\n",
    "    print(center_word, other_words)"
   ]
  },
  {
   "cell_type": "markdown",
   "metadata": {},
   "source": [
    "# Имплеменируем PyTorch-style Dataset для Word2Vec\n",
    "\n",
    "Этот Dataset должен сгенерировать много случайных контекстов и превратить их в сэмплы для тренировки.\n",
    "\n",
    "Напоминаем, что word2vec модель получает на вход One-hot вектор слова и тренирует простую сеть для предсказания на его основе соседних слов.\n",
    "Из набора слово-контекст создается N сэмплов (где N - количество слов в контексте):\n",
    "\n",
    "Например:\n",
    "\n",
    "Слово: `orders` и контекст: `['love', 'nicest', 'to', '50-year']` создадут 4 сэмпла:\n",
    "- input: `orders`, target: `love`\n",
    "- input: `orders`, target: `nicest`\n",
    "- input: `orders`, target: `to`\n",
    "- input: `orders`, target: `50-year`\n",
    "\n",
    "Все слова на входе и на выходе закодированы через one-hot encoding, с размером вектора равным количеству токенов."
   ]
  },
  {
   "cell_type": "code",
   "execution_count": 4,
   "metadata": {},
   "outputs": [
    {
     "name": "stdout",
     "output_type": "stream",
     "text": [
      "Sample - input: tensor([0., 0., 0.,  ..., 0., 0., 0.]), target: 216\n"
     ]
    }
   ],
   "source": [
    "class Word2VecPlain(Dataset):\n",
    "    '''\n",
    "    PyTorch Dataset for plain Word2Vec.\n",
    "    Accepts StanfordTreebank as data and is able to generate dataset based on\n",
    "    a number of random contexts\n",
    "    '''\n",
    "    def __init__(self, data, num_contexts=30000, folder=\"./stanfordSentimentTreebank/\"):\n",
    "        '''\n",
    "        Initializes Word2VecPlain, but doesn't generate the samples yet\n",
    "        (for that, use generate_dataset)\n",
    "        Arguments:\n",
    "        data - StanfordTreebank instance\n",
    "        num_contexts - number of random contexts to use when generating a dataset\n",
    "        '''\n",
    "        # TODO: Implement what you need for other methods!\n",
    "        \n",
    "        self.data = data\n",
    "        if not isinstance(data, StanfordTreeBank):\n",
    "            raise Exception(\"type of data can be StanfordTreeBank\")\n",
    "        self.num_contexts = num_contexts\n",
    "        self.num_tokens = data.num_tokens()\n",
    "        self.folder = folder\n",
    "    \n",
    "    def generate_dataset(self):\n",
    "        '''\n",
    "        Generates dataset samples from random contexts\n",
    "        Note: there will be more samples than contexts because every context\n",
    "        can generate more than one sample\n",
    "        '''\n",
    "        # TODO: Implement generating the dataset\n",
    "        # You should sample num_contexts contexts from the data and turn them into samples\n",
    "        # Note you will have several samples from one context\n",
    "        self.data.load_dataset(self.folder)\n",
    "        random_contexts = [self.data.get_random_context() for _ in range(self.num_contexts)]\n",
    "        self.dataset = [(random_context[0], word) for random_context in random_contexts for word in random_context[1]]\n",
    "\n",
    "                \n",
    "    def __len__(self):\n",
    "        '''\n",
    "        Returns total number of samples\n",
    "        '''\n",
    "        # TODO: Return the number of samples\n",
    "        return len(self.dataset)\n",
    "    \n",
    "    def __getitem__(self, index):\n",
    "        '''\n",
    "        Returns i-th sample\n",
    "        \n",
    "        Return values:\n",
    "        input_vector - torch.Tensor with one-hot representation of the input vector\n",
    "        output_index - index of the target word (not torch.Tensor!)\n",
    "        '''\n",
    "        # TODO: Generate tuple of 2 return arguments for i-th sample   \n",
    "        input_word, target = self.dataset[index]\n",
    "        \n",
    "        input_vector = torch.zeros(self.num_tokens)\n",
    "        input_vector[self.data.index_by_token[input_word]] = 1\n",
    "        output_index = self.data.index_by_token[target]\n",
    "        \n",
    "        return input_vector, output_index\n",
    "\n",
    "dataset = Word2VecPlain(data, 10)\n",
    "dataset.generate_dataset()\n",
    "input_vector, target = dataset[3]\n",
    "print(\"Sample - input: %s, target: %s\" % (input_vector, int(target))) # target should be able to convert to int\n",
    "assert isinstance(input_vector, torch.Tensor)\n",
    "assert torch.sum(input_vector) == 1.0\n",
    "assert input_vector.shape[0] == data.num_tokens()"
   ]
  },
  {
   "cell_type": "markdown",
   "metadata": {},
   "source": [
    "# Создаем модель и тренируем ее"
   ]
  },
  {
   "cell_type": "code",
   "execution_count": 5,
   "metadata": {},
   "outputs": [
    {
     "data": {
      "text/plain": [
       "Sequential(\n",
       "  (0): Linear(in_features=19538, out_features=10, bias=False)\n",
       "  (1): Linear(in_features=10, out_features=19538, bias=False)\n",
       ")"
      ]
     },
     "execution_count": 5,
     "metadata": {},
     "output_type": "execute_result"
    }
   ],
   "source": [
    "# Create the usual PyTorch structures\n",
    "dataset = Word2VecPlain(data, 30000)\n",
    "dataset.generate_dataset()\n",
    "\n",
    "# We'll be training very small word vectors!\n",
    "wordvec_dim = 10\n",
    "\n",
    "# We can use a standard sequential model for this\n",
    "nn_model = nn.Sequential(\n",
    "            nn.Linear(dataset.num_tokens, wordvec_dim, bias=False),\n",
    "            nn.Linear(wordvec_dim, dataset.num_tokens, bias=False), \n",
    "         )\n",
    "nn_model.type(torch.FloatTensor)"
   ]
  },
  {
   "cell_type": "code",
   "execution_count": 6,
   "metadata": {},
   "outputs": [],
   "source": [
    "def extract_word_vectors(nn_model):\n",
    "    '''\n",
    "    Extracts word vectors from the model\n",
    "    \n",
    "    Returns:\n",
    "    input_vectors: torch.Tensor with dimensions (num_tokens, num_dimensions)\n",
    "    output_vectors: torch.Tensor with dimensions (num_tokens, num_dimensions)\n",
    "    '''\n",
    "    # TODO: Implement extracting word vectors from param weights\n",
    "    # return tuple of input vectors and output vectos \n",
    "    # Hint: you can access weights as Tensors through nn.Linear class attributes\n",
    "    input_vectors = nn_model[0].weight.data.t().clone()\n",
    "    output_vectors = nn_model[1].weight.data.clone()\n",
    "    return input_vectors, output_vectors\n",
    "    \n",
    "\n",
    "untrained_input_vectors, untrained_output_vectors = extract_word_vectors(nn_model)\n",
    "assert untrained_input_vectors.shape == (data.num_tokens(), wordvec_dim)\n",
    "assert untrained_output_vectors.shape == (data.num_tokens(), wordvec_dim)"
   ]
  },
  {
   "cell_type": "code",
   "execution_count": 146,
   "metadata": {},
   "outputs": [],
   "source": [
    "def train_model(model, dataset, train_loader, optimizer, scheduler=None, num_epochs=10):\n",
    "    '''\n",
    "    Trains plain word2vec using cross-entropy loss and regenerating dataset every epoch\n",
    "    \n",
    "    Returns:\n",
    "    loss_history, train_history\n",
    "    '''\n",
    "    \n",
    "    loss = nn.CrossEntropyLoss().type(torch.FloatTensor)\n",
    "    \n",
    "    loss_history = []\n",
    "    train_history = []\n",
    "    for epoch in tqdm_notebook(range(num_epochs), total=num_epochs):\n",
    "#         if scheduler:\n",
    "#             scheduler.step()\n",
    "            \n",
    "        model.train() # Enter train mode\n",
    "        \n",
    "        dataset.generate_dataset() # Regenerate dataset every epoch\n",
    "        \n",
    "        # TODO Implement training for this model\n",
    "        # Note we don't have any validation set here because our purpose is the word vectors,\n",
    "        # not the predictive performance of the model\n",
    "        #\n",
    "        # And don't forget to step the learing rate scheduler! \n",
    "        \n",
    "        loss_accum = 0\n",
    "        correct_samples = 0\n",
    "        total_samples = 0\n",
    "        for i_step, (x, y) in enumerate(train_loader):\n",
    "            prediction = model(x)    \n",
    "            loss_value = loss(prediction, y)\n",
    "            optimizer.zero_grad()\n",
    "            loss_value.backward()\n",
    "            optimizer.step()\n",
    "            \n",
    "            _, indices = torch.max(prediction, 1)\n",
    "            correct_samples += torch.sum(indices == y)\n",
    "            total_samples += y.shape[0]\n",
    "            \n",
    "            loss_accum += float(loss_value)\n",
    "\n",
    "        ave_loss = loss_accum / i_step\n",
    "        train_accuracy = float(correct_samples) / total_samples\n",
    "        \n",
    "        if scheduler:\n",
    "            scheduler.step()\n",
    "        \n",
    "        loss_history.append(float(ave_loss))\n",
    "        train_history.append(train_accuracy)\n",
    "        \n",
    "        print(\"Epoch %i, Average loss: %f, Train accuracy: %f\" % (epoch, ave_loss, train_accuracy))\n",
    "    \n",
    "    return loss_history, train_history"
   ]
  },
  {
   "cell_type": "markdown",
   "metadata": {},
   "source": [
    "# Ну и наконец тренировка!\n",
    "\n",
    "Добейтесь значения ошибки меньше **8.0**."
   ]
  },
  {
   "cell_type": "markdown",
   "metadata": {},
   "source": [
    "## <center>1 раунд"
   ]
  },
  {
   "cell_type": "code",
   "execution_count": 80,
   "metadata": {
    "scrolled": true
   },
   "outputs": [
    {
     "data": {
      "application/vnd.jupyter.widget-view+json": {
       "model_id": "71010bf76f6f4eb6bfd942086f31371e",
       "version_major": 2,
       "version_minor": 0
      },
      "text/plain": [
       "HBox(children=(IntProgress(value=0, max=20), HTML(value='')))"
      ]
     },
     "metadata": {},
     "output_type": "display_data"
    },
    {
     "name": "stdout",
     "output_type": "stream",
     "text": [
      "Epoch 0, Average loss: 9.879835, Train accuracy: 0.001220\n",
      "Epoch 1, Average loss: 9.879481, Train accuracy: 0.001343\n",
      "Epoch 2, Average loss: 9.879188, Train accuracy: 0.001594\n",
      "Epoch 3, Average loss: 9.878871, Train accuracy: 0.001666\n",
      "Epoch 4, Average loss: 9.878433, Train accuracy: 0.001578\n",
      "Epoch 5, Average loss: 9.878139, Train accuracy: 0.001956\n",
      "Epoch 6, Average loss: 9.877804, Train accuracy: 0.001851\n",
      "Epoch 7, Average loss: 9.877525, Train accuracy: 0.002178\n",
      "Epoch 8, Average loss: 9.876995, Train accuracy: 0.001665\n",
      "Epoch 9, Average loss: 9.876728, Train accuracy: 0.002251\n",
      "Epoch 10, Average loss: 9.876537, Train accuracy: 0.002350\n",
      "Epoch 11, Average loss: 9.876486, Train accuracy: 0.002114\n",
      "Epoch 12, Average loss: 9.876488, Train accuracy: 0.002210\n",
      "Epoch 13, Average loss: 9.876442, Train accuracy: 0.002043\n",
      "Epoch 14, Average loss: 9.876400, Train accuracy: 0.001902\n",
      "Epoch 15, Average loss: 9.876392, Train accuracy: 0.002184\n",
      "Epoch 16, Average loss: 9.876275, Train accuracy: 0.002018\n",
      "Epoch 17, Average loss: 9.876205, Train accuracy: 0.002043\n",
      "Epoch 18, Average loss: 9.876216, Train accuracy: 0.002372\n",
      "Epoch 19, Average loss: 9.876268, Train accuracy: 0.002177\n",
      "\n"
     ]
    }
   ],
   "source": [
    "# Finally, let's train the model!\n",
    "\n",
    "# TODO: We use placeholder values for hyperparameters - you will need to find better values!\n",
    "optimizer = optim.SGD(nn_model.parameters(), lr=1e-1, weight_decay=0)\n",
    "scheduler = optim.lr_scheduler.StepLR(optimizer, step_size=10, gamma=0.1)\n",
    "train_loader = torch.utils.data.DataLoader(dataset, batch_size=20)\n",
    "\n",
    "loss_history, train_history = train_model(nn_model, dataset, train_loader, optimizer, scheduler, 20)"
   ]
  },
  {
   "cell_type": "code",
   "execution_count": 115,
   "metadata": {},
   "outputs": [
    {
     "data": {
      "application/vnd.jupyter.widget-view+json": {
       "model_id": "",
       "version_major": 2,
       "version_minor": 0
      },
      "text/plain": [
       "HBox(children=(IntProgress(value=0, max=8), HTML(value='')))"
      ]
     },
     "metadata": {},
     "output_type": "display_data"
    },
    {
     "data": {
      "application/vnd.jupyter.widget-view+json": {
       "model_id": "",
       "version_major": 2,
       "version_minor": 0
      },
      "text/plain": [
       "HBox(children=(IntProgress(value=0, max=3), HTML(value='')))"
      ]
     },
     "metadata": {},
     "output_type": "display_data"
    },
    {
     "name": "stdout",
     "output_type": "stream",
     "text": [
      "Epoch 0, Average loss: 9.882343, Train accuracy: 0.000036\n",
      "Epoch 1, Average loss: 9.881979, Train accuracy: 0.000170\n",
      "Epoch 2, Average loss: 9.881637, Train accuracy: 0.000230\n",
      "lr, weight_decay, step_size, gamma: (0.1, 0, 10, 0.1)\n"
     ]
    },
    {
     "data": {
      "application/vnd.jupyter.widget-view+json": {
       "model_id": "",
       "version_major": 2,
       "version_minor": 0
      },
      "text/plain": [
       "HBox(children=(IntProgress(value=0, max=3), HTML(value='')))"
      ]
     },
     "metadata": {},
     "output_type": "display_data"
    },
    {
     "name": "stdout",
     "output_type": "stream",
     "text": [
      "Epoch 0, Average loss: 9.882502, Train accuracy: 0.000036\n",
      "Epoch 1, Average loss: 9.882503, Train accuracy: 0.000012\n",
      "Epoch 2, Average loss: 9.882503, Train accuracy: 0.000000\n",
      "lr, weight_decay, step_size, gamma: (0.1, 0.2, 10, 0.1)\n"
     ]
    },
    {
     "data": {
      "application/vnd.jupyter.widget-view+json": {
       "model_id": "",
       "version_major": 2,
       "version_minor": 0
      },
      "text/plain": [
       "HBox(children=(IntProgress(value=0, max=3), HTML(value='')))"
      ]
     },
     "metadata": {},
     "output_type": "display_data"
    },
    {
     "name": "stdout",
     "output_type": "stream",
     "text": [
      "Epoch 0, Average loss: 9.880072, Train accuracy: 0.000569\n",
      "Epoch 1, Average loss: 9.875027, Train accuracy: 0.001663\n",
      "Epoch 2, Average loss: 9.867554, Train accuracy: 0.002513\n",
      "lr, weight_decay, step_size, gamma: (1.4677992676220697, 0, 10, 0.1)\n"
     ]
    },
    {
     "data": {
      "application/vnd.jupyter.widget-view+json": {
       "model_id": "",
       "version_major": 2,
       "version_minor": 0
      },
      "text/plain": [
       "HBox(children=(IntProgress(value=0, max=3), HTML(value='')))"
      ]
     },
     "metadata": {},
     "output_type": "display_data"
    },
    {
     "name": "stdout",
     "output_type": "stream",
     "text": [
      "Epoch 0, Average loss: 9.882501, Train accuracy: 0.000012\n",
      "Epoch 1, Average loss: 9.882503, Train accuracy: 0.000000\n",
      "Epoch 2, Average loss: 9.882505, Train accuracy: 0.000000\n",
      "lr, weight_decay, step_size, gamma: (1.4677992676220697, 0.2, 10, 0.1)\n"
     ]
    },
    {
     "data": {
      "application/vnd.jupyter.widget-view+json": {
       "model_id": "",
       "version_major": 2,
       "version_minor": 0
      },
      "text/plain": [
       "HBox(children=(IntProgress(value=0, max=3), HTML(value='')))"
      ]
     },
     "metadata": {},
     "output_type": "display_data"
    },
    {
     "name": "stdout",
     "output_type": "stream",
     "text": [
      "Epoch 0, Average loss: nan, Train accuracy: 0.002919\n",
      "Epoch 1, Average loss: nan, Train accuracy: 0.003104\n",
      "Epoch 2, Average loss: nan, Train accuracy: 0.002945\n",
      "lr, weight_decay, step_size, gamma: (21.544346900318846, 0, 10, 0.1)\n"
     ]
    },
    {
     "data": {
      "application/vnd.jupyter.widget-view+json": {
       "model_id": "",
       "version_major": 2,
       "version_minor": 0
      },
      "text/plain": [
       "HBox(children=(IntProgress(value=0, max=3), HTML(value='')))"
      ]
     },
     "metadata": {},
     "output_type": "display_data"
    },
    {
     "name": "stdout",
     "output_type": "stream",
     "text": [
      "Epoch 0, Average loss: nan, Train accuracy: 0.002741\n",
      "Epoch 1, Average loss: nan, Train accuracy: 0.002846\n",
      "Epoch 2, Average loss: nan, Train accuracy: 0.002550\n",
      "lr, weight_decay, step_size, gamma: (21.544346900318846, 0.2, 10, 0.1)\n"
     ]
    },
    {
     "data": {
      "application/vnd.jupyter.widget-view+json": {
       "model_id": "",
       "version_major": 2,
       "version_minor": 0
      },
      "text/plain": [
       "HBox(children=(IntProgress(value=0, max=3), HTML(value='')))"
      ]
     },
     "metadata": {},
     "output_type": "display_data"
    },
    {
     "name": "stdout",
     "output_type": "stream",
     "text": [
      "Epoch 0, Average loss: nan, Train accuracy: 0.002742\n",
      "Epoch 1, Average loss: nan, Train accuracy: 0.003066\n",
      "Epoch 2, Average loss: nan, Train accuracy: 0.003143\n",
      "lr, weight_decay, step_size, gamma: (316.22776601683796, 0, 10, 0.1)\n"
     ]
    },
    {
     "data": {
      "application/vnd.jupyter.widget-view+json": {
       "model_id": "",
       "version_major": 2,
       "version_minor": 0
      },
      "text/plain": [
       "HBox(children=(IntProgress(value=0, max=3), HTML(value='')))"
      ]
     },
     "metadata": {},
     "output_type": "display_data"
    },
    {
     "name": "stdout",
     "output_type": "stream",
     "text": [
      "Epoch 0, Average loss: nan, Train accuracy: 0.002662\n",
      "Epoch 1, Average loss: nan, Train accuracy: 0.003044\n",
      "Epoch 2, Average loss: nan, Train accuracy: 0.002892\n",
      "lr, weight_decay, step_size, gamma: (316.22776601683796, 0.2, 10, 0.1)\n",
      "\n",
      "best loss achieved: 9.867554\n",
      "best_param (lr, weight_decay, step_size, gamma): (1.4677992676220697, 0, 10, 0.1)\n"
     ]
    }
   ],
   "source": [
    "lrs = np.logspace(-1, 2.5, num=4)\n",
    "weight_decays = [0, 0.2]\n",
    "step_sizes = [10]\n",
    "gammas = [0.1]\n",
    "\n",
    "params_list = [lrs, weight_decays, step_sizes, gammas]\n",
    "\n",
    "# TODO find the best hyperparameters to train the network\n",
    "\n",
    "best_loss = np.inf\n",
    "for params in tqdm_notebook(product(*params_list), total=len(list(product(*params_list)))):\n",
    "    lr, weight_decay, step_size, gamma = params\n",
    "    \n",
    "    nn_model = nn.Sequential(\n",
    "            nn.Linear(dataset.num_tokens, wordvec_dim, bias=False),\n",
    "            nn.Linear(wordvec_dim, dataset.num_tokens, bias=False), \n",
    "         )\n",
    "    \n",
    "    optimizer = optim.SGD(nn_model.parameters(), lr=lr, weight_decay=weight_decay)\n",
    "    scheduler = optim.lr_scheduler.StepLR(optimizer, step_size=step_size, gamma=gamma)\n",
    "    train_loader = torch.utils.data.DataLoader(dataset, batch_size=20)\n",
    "    \n",
    "    loss_history, train_history = train_model(nn_model, dataset, train_loader, optimizer, scheduler, 3)\n",
    "    loss = loss_history[-1]\n",
    "    print(\"lr, weight_decay, step_size, gamma:\", params)\n",
    "    \n",
    "    if loss <= best_loss:\n",
    "        best_loss = loss\n",
    "        best_model = nn_model\n",
    "        best_history = [loss_history, train_history]\n",
    "        best_param = params\n",
    "\n",
    "print('\\nbest loss achieved: %f' % best_loss)\n",
    "print(f\"best_param (lr, weight_decay, step_size, gamma): {best_param}\")"
   ]
  },
  {
   "cell_type": "code",
   "execution_count": 132,
   "metadata": {},
   "outputs": [
    {
     "data": {
      "application/vnd.jupyter.widget-view+json": {
       "model_id": "3ccffe7a2024446289bf1d99c0355c61",
       "version_major": 2,
       "version_minor": 0
      },
      "text/plain": [
       "HBox(children=(IntProgress(value=0, max=20), HTML(value='')))"
      ]
     },
     "metadata": {},
     "output_type": "display_data"
    },
    {
     "name": "stdout",
     "output_type": "stream",
     "text": [
      "Epoch 0, Average loss: 9.869490, Train accuracy: 0.001172\n",
      "Epoch 1, Average loss: 9.731552, Train accuracy: 0.002013\n",
      "Epoch 2, Average loss: 9.556281, Train accuracy: 0.002570\n",
      "Epoch 3, Average loss: 9.429523, Train accuracy: 0.003169\n",
      "Epoch 4, Average loss: 9.326509, Train accuracy: 0.004955\n",
      "Epoch 5, Average loss: 9.211168, Train accuracy: 0.006920\n",
      "Epoch 6, Average loss: 9.157644, Train accuracy: 0.008450\n",
      "Epoch 7, Average loss: 9.099779, Train accuracy: 0.009756\n",
      "Epoch 8, Average loss: 9.063940, Train accuracy: 0.010046\n",
      "Epoch 9, Average loss: 9.021480, Train accuracy: 0.010839\n",
      "Epoch 10, Average loss: 9.014598, Train accuracy: 0.011001\n",
      "Epoch 11, Average loss: 9.009018, Train accuracy: 0.010958\n",
      "Epoch 12, Average loss: 9.007506, Train accuracy: 0.010583\n",
      "Epoch 13, Average loss: 9.004299, Train accuracy: 0.011126\n",
      "Epoch 14, Average loss: 8.991419, Train accuracy: 0.011790\n",
      "Epoch 15, Average loss: 8.992185, Train accuracy: 0.011013\n",
      "Epoch 16, Average loss: 8.993471, Train accuracy: 0.011869\n",
      "Epoch 17, Average loss: 8.988588, Train accuracy: 0.011575\n",
      "Epoch 18, Average loss: 8.990167, Train accuracy: 0.011220\n",
      "Epoch 19, Average loss: 8.989311, Train accuracy: 0.011281\n"
     ]
    }
   ],
   "source": [
    "nn_model = nn.Sequential(\n",
    "            nn.Linear(dataset.num_tokens, wordvec_dim, bias=False),\n",
    "            nn.Linear(wordvec_dim, dataset.num_tokens, bias=False), \n",
    "         )\n",
    "\n",
    "optimizer = optim.SGD(nn_model.parameters(), lr=5, weight_decay=0)\n",
    "scheduler = optim.lr_scheduler.StepLR(optimizer, step_size=5, gamma=0.1)\n",
    "train_loader = torch.utils.data.DataLoader(dataset, batch_size=20)\n",
    "\n",
    "loss_history, train_history = train_model(nn_model, dataset, train_loader, optimizer, scheduler, 20)"
   ]
  },
  {
   "cell_type": "code",
   "execution_count": 133,
   "metadata": {},
   "outputs": [
    {
     "data": {
      "text/plain": [
       "[<matplotlib.lines.Line2D at 0x207697c25f8>]"
      ]
     },
     "execution_count": 133,
     "metadata": {},
     "output_type": "execute_result"
    },
    {
     "data": {
      "image/png": "[encoded data removed]",
      "text/plain": [
       "<Figure size 432x288 with 2 Axes>"
      ]
     },
     "metadata": {
      "needs_background": "light"
     },
     "output_type": "display_data"
    }
   ],
   "source": [
    "# Visualize training graphs\n",
    "plt.subplot(211)\n",
    "plt.plot(train_history)\n",
    "plt.subplot(212)\n",
    "plt.plot(loss_history)"
   ]
  },
  {
   "cell_type": "markdown",
   "metadata": {},
   "source": [
    "# Визуализируем вектора для разного вида слов до и после тренировки\n",
    "\n",
    "В случае успешной тренировки вы должны увидеть как вектора слов разных типов (например, знаков препинания, предлогов и остальных) разделяются семантически.\n",
    "\n",
    "Студенты - в качестве выполненного задания присылайте notebook с диаграммами!"
   ]
  },
  {
   "cell_type": "code",
   "execution_count": 134,
   "metadata": {},
   "outputs": [
    {
     "data": {
      "image/png": "[encoded data removed]",
      "text/plain": [
       "<Figure size 504x504 with 1 Axes>"
      ]
     },
     "metadata": {
      "needs_background": "light"
     },
     "output_type": "display_data"
    },
    {
     "data": {
      "image/png": "[encoded data removed]",
      "text/plain": [
       "<Figure size 504x504 with 1 Axes>"
      ]
     },
     "metadata": {
      "needs_background": "light"
     },
     "output_type": "display_data"
    }
   ],
   "source": [
    "trained_input_vectors, trained_output_vectors = extract_word_vectors(nn_model)\n",
    "assert trained_input_vectors.shape == (data.num_tokens(), wordvec_dim)\n",
    "assert trained_output_vectors.shape == (data.num_tokens(), wordvec_dim)\n",
    "\n",
    "def visualize_vectors(input_vectors, output_vectors, title=''):\n",
    "    full_vectors = torch.cat((input_vectors, output_vectors), 0)\n",
    "    wordvec_embedding = PCA(n_components=2).fit_transform(full_vectors)\n",
    "\n",
    "    # Helpful words form CS244D example\n",
    "    # http://cs224d.stanford.edu/assignment1/index.html\n",
    "    visualize_words = {'green': [\"the\", \"a\", \"an\"], \n",
    "                      'blue': [\",\", \".\", \"?\", \"!\", \"``\", \"''\", \"--\"], \n",
    "                      'brown': [\"good\", \"great\", \"cool\", \"brilliant\", \"wonderful\", \n",
    "                              \"well\", \"amazing\", \"worth\", \"sweet\", \"enjoyable\"],\n",
    "                      'orange': [\"boring\", \"bad\", \"waste\", \"dumb\", \"annoying\", \"stupid\"],\n",
    "                      'red': ['tell', 'told', 'said', 'say', 'says', 'tells', 'goes', 'go', 'went']\n",
    "                     }\n",
    "\n",
    "    plt.figure(figsize=(7,7))\n",
    "    plt.suptitle(title)\n",
    "    for color, words in visualize_words.items():\n",
    "        points = np.array([wordvec_embedding[data.index_by_token[w]] for w in words])\n",
    "        for i, word in enumerate(words):\n",
    "            plt.text(points[i, 0], points[i, 1], word, color=color, horizontalalignment='center')\n",
    "        plt.scatter(points[:, 0], points[:, 1], c=color, alpha=0.3, s=0.5)\n",
    "\n",
    "visualize_vectors(untrained_input_vectors, untrained_output_vectors, \"Untrained word vectors\")\n",
    "visualize_vectors(trained_input_vectors, trained_output_vectors, \"Trained word vectors\")"
   ]
  },
  {
   "cell_type": "markdown",
   "metadata": {},
   "source": [
    "## <center>2 раунд"
   ]
  },
  {
   "cell_type": "code",
   "execution_count": 142,
   "metadata": {},
   "outputs": [
    {
     "data": {
      "application/vnd.jupyter.widget-view+json": {
       "model_id": "c080ae0b695f4e4b9f7083fd599b97e7",
       "version_major": 2,
       "version_minor": 0
      },
      "text/plain": [
       "HBox(children=(IntProgress(value=0, max=5), HTML(value='')))"
      ]
     },
     "metadata": {},
     "output_type": "display_data"
    },
    {
     "name": "stdout",
     "output_type": "stream",
     "text": [
      "lr, weight_decay, step_size, gamma: (0.0001, 0, 5, 0.1)\n"
     ]
    },
    {
     "data": {
      "application/vnd.jupyter.widget-view+json": {
       "model_id": "0fab5edc1e92425589162767d0b37f66",
       "version_major": 2,
       "version_minor": 0
      },
      "text/plain": [
       "HBox(children=(IntProgress(value=0, max=3), HTML(value='')))"
      ]
     },
     "metadata": {},
     "output_type": "display_data"
    },
    {
     "name": "stdout",
     "output_type": "stream",
     "text": [
      "Epoch 0, Average loss: 9.882308, Train accuracy: 0.000085\n",
      "Epoch 1, Average loss: 9.881731, Train accuracy: 0.000289\n",
      "Epoch 2, Average loss: 9.881020, Train accuracy: 0.000664\n",
      "lr, weight_decay, step_size, gamma: (0.0005623413251903491, 0, 5, 0.1)\n"
     ]
    },
    {
     "data": {
      "application/vnd.jupyter.widget-view+json": {
       "model_id": "fd3978a3631a4e39997a5fcdac21e746",
       "version_major": 2,
       "version_minor": 0
      },
      "text/plain": [
       "HBox(children=(IntProgress(value=0, max=3), HTML(value='')))"
      ]
     },
     "metadata": {},
     "output_type": "display_data"
    },
    {
     "name": "stdout",
     "output_type": "stream",
     "text": [
      "Epoch 0, Average loss: 9.876781, Train accuracy: 0.000459\n",
      "Epoch 1, Average loss: 9.806588, Train accuracy: 0.001652\n",
      "Epoch 2, Average loss: 9.700885, Train accuracy: 0.002724\n",
      "lr, weight_decay, step_size, gamma: (0.0031622776601683794, 0, 5, 0.1)\n"
     ]
    },
    {
     "data": {
      "application/vnd.jupyter.widget-view+json": {
       "model_id": "b8f270806e564566b5fba17e76f72f00",
       "version_major": 2,
       "version_minor": 0
      },
      "text/plain": [
       "HBox(children=(IntProgress(value=0, max=3), HTML(value='')))"
      ]
     },
     "metadata": {},
     "output_type": "display_data"
    },
    {
     "name": "stdout",
     "output_type": "stream",
     "text": [
      "Epoch 0, Average loss: 9.799562, Train accuracy: 0.000970\n",
      "Epoch 1, Average loss: 9.654489, Train accuracy: 0.001998\n",
      "Epoch 2, Average loss: 9.558326, Train accuracy: 0.002405\n",
      "lr, weight_decay, step_size, gamma: (0.01778279410038923, 0, 5, 0.1)\n"
     ]
    },
    {
     "data": {
      "application/vnd.jupyter.widget-view+json": {
       "model_id": "1b85d598521740589d72bf73d34973fc",
       "version_major": 2,
       "version_minor": 0
      },
      "text/plain": [
       "HBox(children=(IntProgress(value=0, max=3), HTML(value='')))"
      ]
     },
     "metadata": {},
     "output_type": "display_data"
    },
    {
     "name": "stdout",
     "output_type": "stream",
     "text": [
      "Epoch 0, Average loss: 9.883707, Train accuracy: 0.001098\n",
      "Epoch 1, Average loss: 9.771411, Train accuracy: 0.002522\n",
      "Epoch 2, Average loss: 9.670215, Train accuracy: 0.003719\n",
      "lr, weight_decay, step_size, gamma: (0.1, 0, 5, 0.1)\n"
     ]
    },
    {
     "data": {
      "application/vnd.jupyter.widget-view+json": {
       "model_id": "0f92ea70d38f4407b5cb323c8ceca273",
       "version_major": 2,
       "version_minor": 0
      },
      "text/plain": [
       "HBox(children=(IntProgress(value=0, max=3), HTML(value='')))"
      ]
     },
     "metadata": {},
     "output_type": "display_data"
    },
    {
     "name": "stdout",
     "output_type": "stream",
     "text": [
      "Epoch 0, Average loss: 25.146755, Train accuracy: 0.000170\n",
      "Epoch 1, Average loss: 34.193651, Train accuracy: 0.000193\n",
      "Epoch 2, Average loss: 34.624471, Train accuracy: 0.000217\n",
      "\n",
      "best loss achieved: 9.558326\n",
      "best_param (lr, weight_decay, step_size, gamma): (0.0031622776601683794, 0, 5, 0.1)\n"
     ]
    }
   ],
   "source": [
    "lrs = np.logspace(-4, -1, num=5)\n",
    "weight_decays = [0]\n",
    "step_sizes = [5]\n",
    "gammas = [0.1]\n",
    "\n",
    "params_list = [lrs, weight_decays, step_sizes, gammas]\n",
    "\n",
    "# TODO find the best hyperparameters to train the network\n",
    "\n",
    "best_loss = np.inf\n",
    "for params in tqdm_notebook(product(*params_list), total=len(list(product(*params_list)))):\n",
    "    lr, weight_decay, step_size, gamma = params\n",
    "    \n",
    "    nn_model = nn.Sequential(\n",
    "            nn.Linear(dataset.num_tokens, wordvec_dim, bias=False),\n",
    "            nn.Linear(wordvec_dim, dataset.num_tokens, bias=False), \n",
    "         )\n",
    "    \n",
    "    optimizer = optim.Adam(nn_model.parameters(), lr=lr, betas=(0.9, 0.999), \n",
    "                           eps=1e-08, weight_decay=weight_decay, amsgrad=False)\n",
    "    scheduler = optim.lr_scheduler.StepLR(optimizer, step_size=step_size, gamma=gamma)\n",
    "    train_loader = torch.utils.data.DataLoader(dataset, batch_size=20)\n",
    "\n",
    "    print(\"\\n\", \"lr, weight_decay, step_size, gamma:\", params)\n",
    "    loss_history, train_history = train_model(nn_model, dataset, train_loader, optimizer, scheduler, 3)\n",
    "    loss = loss_history[-1]\n",
    "    \n",
    "    if loss <= best_loss:\n",
    "        best_loss = loss\n",
    "        best_model = nn_model\n",
    "        best_history = [loss_history, train_history]\n",
    "        best_param = params\n",
    "\n",
    "print('\\nbest loss achieved: %f' % best_loss)\n",
    "print(f\"best_param (lr, weight_decay, step_size, gamma): {best_param}\")"
   ]
  },
  {
   "cell_type": "code",
   "execution_count": 144,
   "metadata": {},
   "outputs": [
    {
     "data": {
      "application/vnd.jupyter.widget-view+json": {
       "model_id": "319ffb37be194d07b162c097e65f666f",
       "version_major": 2,
       "version_minor": 0
      },
      "text/plain": [
       "HBox(children=(IntProgress(value=0, max=20), HTML(value='')))"
      ]
     },
     "metadata": {},
     "output_type": "display_data"
    },
    {
     "name": "stdout",
     "output_type": "stream",
     "text": [
      "Epoch 0, Average loss: 9.800190, Train accuracy: 0.000952\n",
      "Epoch 1, Average loss: 9.648293, Train accuracy: 0.002461\n",
      "Epoch 2, Average loss: 9.548189, Train accuracy: 0.002832\n",
      "Epoch 3, Average loss: 9.491882, Train accuracy: 0.002822\n",
      "Epoch 4, Average loss: 9.420652, Train accuracy: 0.003507\n",
      "Epoch 5, Average loss: 9.358252, Train accuracy: 0.005009\n",
      "Epoch 6, Average loss: 9.324788, Train accuracy: 0.004935\n",
      "Epoch 7, Average loss: 9.281312, Train accuracy: 0.005435\n",
      "Epoch 8, Average loss: 9.272539, Train accuracy: 0.005199\n",
      "Epoch 9, Average loss: 9.245434, Train accuracy: 0.005239\n",
      "Epoch 10, Average loss: 9.235230, Train accuracy: 0.005771\n",
      "Epoch 11, Average loss: 9.218877, Train accuracy: 0.005878\n",
      "Epoch 12, Average loss: 9.220950, Train accuracy: 0.005186\n",
      "Epoch 13, Average loss: 9.222842, Train accuracy: 0.005486\n",
      "Epoch 14, Average loss: 9.213858, Train accuracy: 0.005844\n",
      "Epoch 15, Average loss: 9.216831, Train accuracy: 0.005691\n",
      "Epoch 16, Average loss: 9.207503, Train accuracy: 0.005800\n",
      "Epoch 17, Average loss: 9.210591, Train accuracy: 0.005851\n",
      "Epoch 18, Average loss: 9.210114, Train accuracy: 0.005539\n",
      "Epoch 19, Average loss: 9.206501, Train accuracy: 0.005396\n"
     ]
    }
   ],
   "source": [
    "lr, weight_decay, step_size, gamma = (0.003, 0, 5, 0.1)\n",
    "\n",
    "\n",
    "nn_model = nn.Sequential(\n",
    "            nn.Linear(dataset.num_tokens, wordvec_dim, bias=False),\n",
    "            nn.Linear(wordvec_dim, dataset.num_tokens, bias=False), \n",
    "         )\n",
    "\n",
    "optimizer = optim.Adam(nn_model.parameters(), lr=lr, betas=(0.9, 0.999), eps=1e-08, weight_decay=weight_decay, amsgrad=False)\n",
    "scheduler = optim.lr_scheduler.StepLR(optimizer, step_size=step_size, gamma=gamma)\n",
    "train_loader = torch.utils.data.DataLoader(dataset, batch_size=20)\n",
    "\n",
    "loss_history, train_history = train_model(nn_model, dataset, train_loader, optimizer, scheduler, 20)"
   ]
  },
  {
   "cell_type": "code",
   "execution_count": 145,
   "metadata": {},
   "outputs": [
    {
     "data": {
      "text/plain": [
       "[<matplotlib.lines.Line2D at 0x2079f82ecc0>]"
      ]
     },
     "execution_count": 145,
     "metadata": {},
     "output_type": "execute_result"
    },
    {
     "data": {
      "image/png": "[encoded data removed]",
      "text/plain": [
       "<Figure size 432x288 with 2 Axes>"
      ]
     },
     "metadata": {
      "needs_background": "light"
     },
     "output_type": "display_data"
    }
   ],
   "source": [
    "# Visualize training graphs\n",
    "plt.subplot(211)\n",
    "plt.plot(train_history)\n",
    "plt.subplot(212)\n",
    "plt.plot(loss_history)"
   ]
  }
 ],
 "metadata": {
  "kernelspec": {
   "display_name": "Python 3",
   "language": "python",
   "name": "python3"
  },
  "language_info": {
   "codemirror_mode": {
    "name": "ipython",
    "version": 3
   },
   "file_extension": ".py",
   "mimetype": "text/x-python",
   "name": "python",
   "nbconvert_exporter": "python",
   "pygments_lexer": "ipython3",
   "version": "3.7.3"
  }
 },
 "nbformat": 4,
 "nbformat_minor": 2
}
